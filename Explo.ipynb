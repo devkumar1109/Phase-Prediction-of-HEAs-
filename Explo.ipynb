{
 "cells": [
  {
   "cell_type": "markdown",
   "id": "04733662-c39b-45a3-af56-510323e8d80e",
   "metadata": {},
   "source": [
    "## PHASE/MICROSTRUCTURE PREDICTION OF HEA’S"
   ]
  },
  {
   "cell_type": "markdown",
   "id": "e918c345-37f5-4ea2-921a-b156ffaf020e",
   "metadata": {},
   "source": [
    "In this project, we're predicting the microstructure of high entropy alloys (HEAs). These\r\n",
    "alloys have the potential to have really great properties, like being really strong or\r\n",
    "resistant to corrosion. We're trying to figure out what makes these alloys have certain\r\n",
    "properties by looking at different factors like the size of the atoms in the alloy, how\r\n",
    "much disorder there is in the mixing of the atoms, and how much energy is involved in\r\n",
    "mixing them together. To do this, we're using a mix of science and technology. We're\r\n",
    "using advanced computer programs to help us understand how these factors affect the\r\n",
    "structure of the alloy and what phases it ufacturing.\r"
   ]
  },
  {
   "cell_type": "markdown",
   "id": "42b53b3e-37bb-4c40-b818-a4e647850c26",
   "metadata": {},
   "source": [
    "The goal is to use all this information to create a model that can predict what\n",
    "phases(microstructure) an alloy will have based on its composition. This will help us\n",
    "design new alloys with specific properties in mind. Overall, this project is all about using\n",
    "science and technology to understand and design better metal alloys, which could have\n",
    "big benefits for industries like aerospace, automotive, and manufacturing.\n"
   ]
  },
  {
   "cell_type": "markdown",
   "id": "577d5a99-ff55-49e8-9ae1-ba7c851d59fe",
   "metadata": {
    "jp-MarkdownHeadingCollapsed": true
   },
   "source": [
    "#### DATA GATHERING"
   ]
  },
  {
   "cell_type": "markdown",
   "id": "2c914df5-6355-47f1-99f6-c83da0eb5afb",
   "metadata": {},
   "source": [
    "Importing various libraries.\n",
    "1. The NumPy and pandas libraries are essential for data manipulation and analysis in Python.\n",
    "2. NumPy is used for numerical computing in Python. It provides support for arrays, matrices, and many mathematical functions.\n",
    "3. Pandas is a powerful data manipulation library built on top of NumPy. It provides data structures like DataFrame and Series for efficient ata manipulation.\n",
    "4.  Matplotlib and Seaborn is a plotting library used for creating static and interactive visualizations in Python."
   ]
  },
  {
   "cell_type": "code",
   "execution_count": 126,
   "id": "12ee227e-3002-44b6-9516-0c8baf199b7d",
   "metadata": {},
   "outputs": [],
   "source": [
    "import numpy as np\n",
    "import pandas as pd\n",
    "import matplotlib.pyplot as plt\n",
    "import seaborn as sns"
   ]
  },
  {
   "cell_type": "markdown",
   "id": "d5488515-8b48-421e-a7c2-7ebc27f1f4e3",
   "metadata": {},
   "source": [
    "A dataset containing compositional information and corresponding phase\n",
    "stability data for a range of high entropy alloys is collected from experimental\n",
    "studies and databases."
   ]
  },
  {
   "cell_type": "code",
   "execution_count": 127,
   "id": "ebce9dca-fd0a-4afc-aed0-135f23abd55e",
   "metadata": {},
   "outputs": [],
   "source": [
    "df1 = pd.read_csv('HEA.csv',encoding = 'Latin1')"
   ]
  },
  {
   "cell_type": "markdown",
   "id": "4e5b9896-f09c-4d80-95ea-4367721ef00a",
   "metadata": {},
   "source": [
    "Creating a copy of our original DataFrame. This ensures that modifications to the new DataFrame do not affect the original DataFrame."
   ]
  },
  {
   "cell_type": "code",
   "execution_count": 128,
   "id": "a79e443d-9d09-4dc2-93d0-1c68716db8e3",
   "metadata": {},
   "outputs": [],
   "source": [
    "df = df1.copy()"
   ]
  },
  {
   "cell_type": "code",
   "execution_count": 129,
   "id": "1ce254da-2cd6-4f7e-a9e9-85ce0c42b808",
   "metadata": {},
   "outputs": [
    {
     "data": {
      "text/html": [
       "<div>\n",
       "<style scoped>\n",
       "    .dataframe tbody tr th:only-of-type {\n",
       "        vertical-align: middle;\n",
       "    }\n",
       "\n",
       "    .dataframe tbody tr th {\n",
       "        vertical-align: top;\n",
       "    }\n",
       "\n",
       "    .dataframe thead th {\n",
       "        text-align: right;\n",
       "    }\n",
       "</style>\n",
       "<table border=\"1\" class=\"dataframe\">\n",
       "  <thead>\n",
       "    <tr style=\"text-align: right;\">\n",
       "      <th></th>\n",
       "      <th>Alloy ID</th>\n",
       "      <th>Alloy</th>\n",
       "      <th>Al</th>\n",
       "      <th>Co</th>\n",
       "      <th>Cr</th>\n",
       "      <th>Fe</th>\n",
       "      <th>Ni</th>\n",
       "      <th>Cu</th>\n",
       "      <th>Mn</th>\n",
       "      <th>Ti</th>\n",
       "      <th>...</th>\n",
       "      <th>Quenching</th>\n",
       "      <th>HPR</th>\n",
       "      <th>Microstructure_</th>\n",
       "      <th>Multiphase</th>\n",
       "      <th>IM_Structure</th>\n",
       "      <th>Microstructure</th>\n",
       "      <th>Phases</th>\n",
       "      <th>References</th>\n",
       "      <th>Unnamed: 51</th>\n",
       "      <th>Unnamed: 52</th>\n",
       "    </tr>\n",
       "  </thead>\n",
       "  <tbody>\n",
       "    <tr>\n",
       "      <th>0</th>\n",
       "      <td>Alloy 0000</td>\n",
       "      <td>Al0.5NbTaTiV</td>\n",
       "      <td>0.111111</td>\n",
       "      <td>0.000000</td>\n",
       "      <td>0.000000</td>\n",
       "      <td>0.000000</td>\n",
       "      <td>0.000000</td>\n",
       "      <td>0.000000</td>\n",
       "      <td>0.000000</td>\n",
       "      <td>0.222222</td>\n",
       "      <td>...</td>\n",
       "      <td>NaN</td>\n",
       "      <td>NaN</td>\n",
       "      <td>BCC</td>\n",
       "      <td>S</td>\n",
       "      <td>NaN</td>\n",
       "      <td>BCC</td>\n",
       "      <td>BCC_SS</td>\n",
       "      <td>10.1016/j.proeng.2012.03.043</td>\n",
       "      <td>NaN</td>\n",
       "      <td>NaN</td>\n",
       "    </tr>\n",
       "    <tr>\n",
       "      <th>1</th>\n",
       "      <td>Alloy 0001</td>\n",
       "      <td>Al0.75MoNbTiV</td>\n",
       "      <td>0.157895</td>\n",
       "      <td>0.000000</td>\n",
       "      <td>0.000000</td>\n",
       "      <td>0.000000</td>\n",
       "      <td>0.000000</td>\n",
       "      <td>0.000000</td>\n",
       "      <td>0.000000</td>\n",
       "      <td>0.210526</td>\n",
       "      <td>...</td>\n",
       "      <td>NaN</td>\n",
       "      <td>NaN</td>\n",
       "      <td>BCC</td>\n",
       "      <td>S</td>\n",
       "      <td>NaN</td>\n",
       "      <td>BCC</td>\n",
       "      <td>BCC_SS</td>\n",
       "      <td>10.3390/e16020870</td>\n",
       "      <td>NaN</td>\n",
       "      <td>NaN</td>\n",
       "    </tr>\n",
       "    <tr>\n",
       "      <th>2</th>\n",
       "      <td>Alloy 0002</td>\n",
       "      <td>Al0.25MoNbTiV</td>\n",
       "      <td>0.058824</td>\n",
       "      <td>0.000000</td>\n",
       "      <td>0.000000</td>\n",
       "      <td>0.000000</td>\n",
       "      <td>0.000000</td>\n",
       "      <td>0.000000</td>\n",
       "      <td>0.000000</td>\n",
       "      <td>0.235294</td>\n",
       "      <td>...</td>\n",
       "      <td>NaN</td>\n",
       "      <td>NaN</td>\n",
       "      <td>BCC</td>\n",
       "      <td>S</td>\n",
       "      <td>NaN</td>\n",
       "      <td>BCC</td>\n",
       "      <td>BCC_SS</td>\n",
       "      <td>10.3390/e16020870</td>\n",
       "      <td>NaN</td>\n",
       "      <td>NaN</td>\n",
       "    </tr>\n",
       "    <tr>\n",
       "      <th>3</th>\n",
       "      <td>Alloy 0003</td>\n",
       "      <td>Al0.25NbTaTiV</td>\n",
       "      <td>0.058824</td>\n",
       "      <td>0.000000</td>\n",
       "      <td>0.000000</td>\n",
       "      <td>0.000000</td>\n",
       "      <td>0.000000</td>\n",
       "      <td>0.000000</td>\n",
       "      <td>0.000000</td>\n",
       "      <td>0.235294</td>\n",
       "      <td>...</td>\n",
       "      <td>NaN</td>\n",
       "      <td>NaN</td>\n",
       "      <td>BCC</td>\n",
       "      <td>S</td>\n",
       "      <td>NaN</td>\n",
       "      <td>BCC</td>\n",
       "      <td>BCC_SS</td>\n",
       "      <td>10.1016/j.proeng.2012.03.043</td>\n",
       "      <td>NaN</td>\n",
       "      <td>NaN</td>\n",
       "    </tr>\n",
       "    <tr>\n",
       "      <th>4</th>\n",
       "      <td>Alloy 0004</td>\n",
       "      <td>Al0.2MoTaTiV</td>\n",
       "      <td>0.047619</td>\n",
       "      <td>0.000000</td>\n",
       "      <td>0.000000</td>\n",
       "      <td>0.000000</td>\n",
       "      <td>0.000000</td>\n",
       "      <td>0.000000</td>\n",
       "      <td>0.000000</td>\n",
       "      <td>0.238095</td>\n",
       "      <td>...</td>\n",
       "      <td>NaN</td>\n",
       "      <td>NaN</td>\n",
       "      <td>BCC</td>\n",
       "      <td>S</td>\n",
       "      <td>NaN</td>\n",
       "      <td>BCC</td>\n",
       "      <td>BCC_SS</td>\n",
       "      <td>10.4028/www.scientific.net/MSF.898.638</td>\n",
       "      <td>NaN</td>\n",
       "      <td>NaN</td>\n",
       "    </tr>\n",
       "    <tr>\n",
       "      <th>...</th>\n",
       "      <td>...</td>\n",
       "      <td>...</td>\n",
       "      <td>...</td>\n",
       "      <td>...</td>\n",
       "      <td>...</td>\n",
       "      <td>...</td>\n",
       "      <td>...</td>\n",
       "      <td>...</td>\n",
       "      <td>...</td>\n",
       "      <td>...</td>\n",
       "      <td>...</td>\n",
       "      <td>...</td>\n",
       "      <td>...</td>\n",
       "      <td>...</td>\n",
       "      <td>...</td>\n",
       "      <td>...</td>\n",
       "      <td>...</td>\n",
       "      <td>...</td>\n",
       "      <td>...</td>\n",
       "      <td>...</td>\n",
       "      <td>...</td>\n",
       "    </tr>\n",
       "    <tr>\n",
       "      <th>1356</th>\n",
       "      <td>Alloy 1420</td>\n",
       "      <td>AlCoCrCuMnFe</td>\n",
       "      <td>0.142857</td>\n",
       "      <td>0.142857</td>\n",
       "      <td>0.142857</td>\n",
       "      <td>0.142857</td>\n",
       "      <td>0.142857</td>\n",
       "      <td>0.142857</td>\n",
       "      <td>0.142857</td>\n",
       "      <td>0.000000</td>\n",
       "      <td>...</td>\n",
       "      <td>NaN</td>\n",
       "      <td>NaN</td>\n",
       "      <td>BCC1 + BCC2 + FCC</td>\n",
       "      <td>M</td>\n",
       "      <td>NaN</td>\n",
       "      <td>FCC + BCC</td>\n",
       "      <td>FCC_PLUS_BCC</td>\n",
       "      <td>10.1016/j.msea.2015.01.002</td>\n",
       "      <td>NaN</td>\n",
       "      <td>NaN</td>\n",
       "    </tr>\n",
       "    <tr>\n",
       "      <th>1357</th>\n",
       "      <td>Alloy 1421</td>\n",
       "      <td>Al58.5Mg31.5Zn4.5Cu4.5Si1</td>\n",
       "      <td>0.584708</td>\n",
       "      <td>0.000000</td>\n",
       "      <td>0.000000</td>\n",
       "      <td>0.000000</td>\n",
       "      <td>0.000000</td>\n",
       "      <td>0.045477</td>\n",
       "      <td>0.000000</td>\n",
       "      <td>0.000000</td>\n",
       "      <td>...</td>\n",
       "      <td>NaN</td>\n",
       "      <td>NaN</td>\n",
       "      <td>FCC + Im</td>\n",
       "      <td>Im</td>\n",
       "      <td>NaN</td>\n",
       "      <td>FCC + Im</td>\n",
       "      <td>Im</td>\n",
       "      <td>10.1007/s11665-018-3720-0</td>\n",
       "      <td>NaN</td>\n",
       "      <td>NaN</td>\n",
       "    </tr>\n",
       "    <tr>\n",
       "      <th>1358</th>\n",
       "      <td>Alloy 1422</td>\n",
       "      <td>Al63Mg27Zn4.5Cu4.5Si1</td>\n",
       "      <td>0.629685</td>\n",
       "      <td>0.000000</td>\n",
       "      <td>0.000000</td>\n",
       "      <td>0.000000</td>\n",
       "      <td>0.000000</td>\n",
       "      <td>0.045477</td>\n",
       "      <td>0.000000</td>\n",
       "      <td>0.000000</td>\n",
       "      <td>...</td>\n",
       "      <td>NaN</td>\n",
       "      <td>NaN</td>\n",
       "      <td>FCC + Im</td>\n",
       "      <td>Im</td>\n",
       "      <td>NaN</td>\n",
       "      <td>FCC + Im</td>\n",
       "      <td>Im</td>\n",
       "      <td>10.1007/s11665-018-3720-0</td>\n",
       "      <td>NaN</td>\n",
       "      <td>NaN</td>\n",
       "    </tr>\n",
       "    <tr>\n",
       "      <th>1359</th>\n",
       "      <td>Alloy 1423</td>\n",
       "      <td>Al66.7Mg23.3Zn4.5Cu4.5Si1</td>\n",
       "      <td>0.666667</td>\n",
       "      <td>0.000000</td>\n",
       "      <td>0.000000</td>\n",
       "      <td>0.000000</td>\n",
       "      <td>0.000000</td>\n",
       "      <td>0.045477</td>\n",
       "      <td>0.000000</td>\n",
       "      <td>0.000000</td>\n",
       "      <td>...</td>\n",
       "      <td>NaN</td>\n",
       "      <td>NaN</td>\n",
       "      <td>FCC + Im</td>\n",
       "      <td>Im</td>\n",
       "      <td>NaN</td>\n",
       "      <td>FCC + Im</td>\n",
       "      <td>Im</td>\n",
       "      <td>10.1007/s11665-018-3720-0</td>\n",
       "      <td>NaN</td>\n",
       "      <td>NaN</td>\n",
       "    </tr>\n",
       "    <tr>\n",
       "      <th>1360</th>\n",
       "      <td>NaN</td>\n",
       "      <td>NaN</td>\n",
       "      <td>NaN</td>\n",
       "      <td>NaN</td>\n",
       "      <td>NaN</td>\n",
       "      <td>NaN</td>\n",
       "      <td>NaN</td>\n",
       "      <td>NaN</td>\n",
       "      <td>NaN</td>\n",
       "      <td>NaN</td>\n",
       "      <td>...</td>\n",
       "      <td>NaN</td>\n",
       "      <td>NaN</td>\n",
       "      <td>NaN</td>\n",
       "      <td>NaN</td>\n",
       "      <td>NaN</td>\n",
       "      <td>NaN</td>\n",
       "      <td>NaN</td>\n",
       "      <td>NaN</td>\n",
       "      <td>NaN</td>\n",
       "      <td>NaN</td>\n",
       "    </tr>\n",
       "  </tbody>\n",
       "</table>\n",
       "<p>1361 rows × 53 columns</p>\n",
       "</div>"
      ],
      "text/plain": [
       "        Alloy ID                     Alloy         Al        Co        Cr  \\\n",
       "0     Alloy 0000               Al0.5NbTaTiV  0.111111  0.000000  0.000000   \n",
       "1     Alloy 0001              Al0.75MoNbTiV  0.157895  0.000000  0.000000   \n",
       "2     Alloy 0002              Al0.25MoNbTiV  0.058824  0.000000  0.000000   \n",
       "3     Alloy 0003              Al0.25NbTaTiV  0.058824  0.000000  0.000000   \n",
       "4     Alloy 0004               Al0.2MoTaTiV  0.047619  0.000000  0.000000   \n",
       "...          ...                        ...       ...       ...       ...   \n",
       "1356  Alloy 1420               AlCoCrCuMnFe  0.142857  0.142857  0.142857   \n",
       "1357  Alloy 1421  Al58.5Mg31.5Zn4.5Cu4.5Si1  0.584708  0.000000  0.000000   \n",
       "1358  Alloy 1422      Al63Mg27Zn4.5Cu4.5Si1  0.629685  0.000000  0.000000   \n",
       "1359  Alloy 1423  Al66.7Mg23.3Zn4.5Cu4.5Si1  0.666667  0.000000  0.000000   \n",
       "1360         NaN                        NaN       NaN       NaN       NaN   \n",
       "\n",
       "            Fe        Ni        Cu        Mn        Ti  ...  Quenching  HPR  \\\n",
       "0     0.000000  0.000000  0.000000  0.000000  0.222222  ...        NaN  NaN   \n",
       "1     0.000000  0.000000  0.000000  0.000000  0.210526  ...        NaN  NaN   \n",
       "2     0.000000  0.000000  0.000000  0.000000  0.235294  ...        NaN  NaN   \n",
       "3     0.000000  0.000000  0.000000  0.000000  0.235294  ...        NaN  NaN   \n",
       "4     0.000000  0.000000  0.000000  0.000000  0.238095  ...        NaN  NaN   \n",
       "...        ...       ...       ...       ...       ...  ...        ...  ...   \n",
       "1356  0.142857  0.142857  0.142857  0.142857  0.000000  ...        NaN  NaN   \n",
       "1357  0.000000  0.000000  0.045477  0.000000  0.000000  ...        NaN  NaN   \n",
       "1358  0.000000  0.000000  0.045477  0.000000  0.000000  ...        NaN  NaN   \n",
       "1359  0.000000  0.000000  0.045477  0.000000  0.000000  ...        NaN  NaN   \n",
       "1360       NaN       NaN       NaN       NaN       NaN  ...        NaN  NaN   \n",
       "\n",
       "        Microstructure_  Multiphase  IM_Structure  Microstructure  \\\n",
       "0                   BCC           S           NaN             BCC   \n",
       "1                   BCC           S           NaN             BCC   \n",
       "2                   BCC           S           NaN             BCC   \n",
       "3                   BCC           S           NaN             BCC   \n",
       "4                   BCC           S           NaN             BCC   \n",
       "...                 ...         ...           ...             ...   \n",
       "1356  BCC1 + BCC2 + FCC           M           NaN       FCC + BCC   \n",
       "1357           FCC + Im          Im           NaN        FCC + Im   \n",
       "1358           FCC + Im          Im           NaN        FCC + Im   \n",
       "1359           FCC + Im          Im           NaN        FCC + Im   \n",
       "1360                NaN         NaN           NaN             NaN   \n",
       "\n",
       "            Phases                              References  Unnamed: 51  \\\n",
       "0           BCC_SS            10.1016/j.proeng.2012.03.043          NaN   \n",
       "1           BCC_SS                       10.3390/e16020870          NaN   \n",
       "2           BCC_SS                       10.3390/e16020870          NaN   \n",
       "3           BCC_SS            10.1016/j.proeng.2012.03.043          NaN   \n",
       "4           BCC_SS  10.4028/www.scientific.net/MSF.898.638          NaN   \n",
       "...            ...                                     ...          ...   \n",
       "1356  FCC_PLUS_BCC              10.1016/j.msea.2015.01.002          NaN   \n",
       "1357            Im               10.1007/s11665-018-3720-0          NaN   \n",
       "1358            Im               10.1007/s11665-018-3720-0          NaN   \n",
       "1359            Im               10.1007/s11665-018-3720-0          NaN   \n",
       "1360           NaN                                     NaN          NaN   \n",
       "\n",
       "      Unnamed: 52  \n",
       "0             NaN  \n",
       "1             NaN  \n",
       "2             NaN  \n",
       "3             NaN  \n",
       "4             NaN  \n",
       "...           ...  \n",
       "1356          NaN  \n",
       "1357          NaN  \n",
       "1358          NaN  \n",
       "1359          NaN  \n",
       "1360          NaN  \n",
       "\n",
       "[1361 rows x 53 columns]"
      ]
     },
     "execution_count": 129,
     "metadata": {},
     "output_type": "execute_result"
    }
   ],
   "source": [
    "df"
   ]
  },
  {
   "cell_type": "markdown",
   "id": "5f6eec69-d975-4fe6-b9f1-e1c9be7bf561",
   "metadata": {
    "jp-MarkdownHeadingCollapsed": true
   },
   "source": [
    "#### DATA PREPROCESSING"
   ]
  },
  {
   "cell_type": "markdown",
   "id": "c53612b2-ad6a-4ee5-8744-e81555f0befc",
   "metadata": {},
   "source": [
    "Data preprocessing is the process of identifying and correcting errors, inconsistencies, and inaccuracies in a dataset to improve its quality and reliability."
   ]
  },
  {
   "cell_type": "markdown",
   "id": "03d555bf-73f4-412e-a719-4f33282db782",
   "metadata": {},
   "source": [
    "We will first use the info method of pandas which provides a concise summary of a DataFrame, including the index dtype, column dtypes, non-null values, and memory usage."
   ]
  },
  {
   "cell_type": "code",
   "execution_count": 130,
   "id": "76ed846e-7f80-4e4d-b774-de6ecfe49862",
   "metadata": {},
   "outputs": [
    {
     "name": "stdout",
     "output_type": "stream",
     "text": [
      "<class 'pandas.core.frame.DataFrame'>\n",
      "RangeIndex: 1361 entries, 0 to 1360\n",
      "Data columns (total 53 columns):\n",
      " #   Column                Non-Null Count  Dtype  \n",
      "---  ------                --------------  -----  \n",
      " 0   Alloy ID              1360 non-null   object \n",
      " 1   Alloy                 1360 non-null   object \n",
      " 2   Al                    1360 non-null   float64\n",
      " 3   Co                    1360 non-null   float64\n",
      " 4   Cr                    1360 non-null   float64\n",
      " 5   Fe                    1360 non-null   float64\n",
      " 6   Ni                    1360 non-null   float64\n",
      " 7   Cu                    1360 non-null   float64\n",
      " 8   Mn                    1360 non-null   float64\n",
      " 9   Ti                    1360 non-null   float64\n",
      " 10  V                     1360 non-null   float64\n",
      " 11  Nb                    1360 non-null   float64\n",
      " 12  Mo                    1360 non-null   float64\n",
      " 13  Zr                    1360 non-null   float64\n",
      " 14  Hf                    1360 non-null   float64\n",
      " 15  Ta                    1360 non-null   float64\n",
      " 16  W                     1360 non-null   float64\n",
      " 17  C                     1360 non-null   float64\n",
      " 18  Mg                    1360 non-null   float64\n",
      " 19  Zn                    1360 non-null   float64\n",
      " 20  Si                    1360 non-null   float64\n",
      " 21  Re                    1360 non-null   float64\n",
      " 22  N                     1360 non-null   float64\n",
      " 23  Sc                    1360 non-null   float64\n",
      " 24  Li                    1360 non-null   float64\n",
      " 25  Sn                    1360 non-null   float64\n",
      " 26  Be                    1360 non-null   float64\n",
      " 27  Num_of_Elem           1360 non-null   float64\n",
      " 28  Density_calc          1355 non-null   float64\n",
      " 29  dHmix                 1360 non-null   float64\n",
      " 30  dSmix                 1360 non-null   float64\n",
      " 31  dGmix                 1360 non-null   float64\n",
      " 32  Tm                    1360 non-null   float64\n",
      " 33  n.Para                1359 non-null   float64\n",
      " 34  Atom.Size.Diff        1360 non-null   float64\n",
      " 35  Elect.Diff            1360 non-null   float64\n",
      " 36  VEC                   1360 non-null   float64\n",
      " 37  Sythesis_Route        1360 non-null   object \n",
      " 38  Hot-Cold_Working      444 non-null    object \n",
      " 39  Homogenization_Temp   571 non-null    float64\n",
      " 40  Homogenization_Time   561 non-null    float64\n",
      " 41  Annealing_Temp        603 non-null    object \n",
      " 42  Annealing_Time_(min)  594 non-null    float64\n",
      " 43  Quenching             269 non-null    object \n",
      " 44  HPR                   56 non-null     object \n",
      " 45  Microstructure_       1360 non-null   object \n",
      " 46  Multiphase            1355 non-null   object \n",
      " 47  IM_Structure          432 non-null    object \n",
      " 48  Microstructure        1360 non-null   object \n",
      " 49  Phases                1360 non-null   object \n",
      " 50  References            1360 non-null   object \n",
      " 51  Unnamed: 51           0 non-null      float64\n",
      " 52  Unnamed: 52           0 non-null      float64\n",
      "dtypes: float64(40), object(13)\n",
      "memory usage: 563.7+ KB\n"
     ]
    }
   ],
   "source": [
    "df.info()"
   ]
  },
  {
   "cell_type": "code",
   "execution_count": 131,
   "id": "97227565-0c1c-4118-9afa-eb5343f51293",
   "metadata": {},
   "outputs": [
    {
     "data": {
      "text/plain": [
       "(1361, 53)"
      ]
     },
     "execution_count": 131,
     "metadata": {},
     "output_type": "execute_result"
    }
   ],
   "source": [
    "df.shape"
   ]
  },
  {
   "cell_type": "markdown",
   "id": "0728bbcc-f043-4ba6-b418-aeee9515a64f",
   "metadata": {},
   "source": [
    "We will first drop duplicates on the basis of 'Alloy' column as many times for one alloy, duplicate rows are given."
   ]
  },
  {
   "cell_type": "code",
   "execution_count": 132,
   "id": "bc80cd0c-0121-48d4-9b40-c75fcb0872c1",
   "metadata": {},
   "outputs": [],
   "source": [
    "df.drop_duplicates(subset = 'Alloy ',inplace = True)"
   ]
  },
  {
   "cell_type": "markdown",
   "id": "8de1657c-3c2f-4aec-a690-0c8c3fe22285",
   "metadata": {},
   "source": [
    "We can now drop 'Alloy' column as it will not have any effect on our target column."
   ]
  },
  {
   "cell_type": "code",
   "execution_count": 133,
   "id": "252abe5b-3780-40f7-86d8-f5ee63c85fda",
   "metadata": {},
   "outputs": [],
   "source": [
    "df.drop(columns = ['Alloy '], inplace = True)"
   ]
  },
  {
   "cell_type": "markdown",
   "id": "4c392e4a-cd94-49ba-b76e-9296af787428",
   "metadata": {},
   "source": [
    "Similarly dropping columns 'Alloy ID','References','Unnamed: 51','Unnamed: 52'"
   ]
  },
  {
   "cell_type": "code",
   "execution_count": 134,
   "id": "4421d0f0-0d57-4a6b-864f-1eeb0878656f",
   "metadata": {},
   "outputs": [],
   "source": [
    "df.drop(columns = ['Alloy ID','References','Unnamed: 51','Unnamed: 52'],inplace = True)"
   ]
  },
  {
   "cell_type": "markdown",
   "id": "eaa3103a-784f-4515-9b55-158b5a92034b",
   "metadata": {},
   "source": [
    "Finding no of duplicate rows and then dropping them."
   ]
  },
  {
   "cell_type": "code",
   "execution_count": 135,
   "id": "1e01a58e-7ea5-4313-bfdc-529a1c73fb8e",
   "metadata": {},
   "outputs": [
    {
     "data": {
      "text/plain": [
       "6"
      ]
     },
     "execution_count": 135,
     "metadata": {},
     "output_type": "execute_result"
    }
   ],
   "source": [
    "df.duplicated().sum()"
   ]
  },
  {
   "cell_type": "code",
   "execution_count": 136,
   "id": "bdd1a418-7bc5-4766-9dd1-ce1e57428807",
   "metadata": {},
   "outputs": [],
   "source": [
    "df.drop_duplicates(inplace = True)"
   ]
  },
  {
   "cell_type": "markdown",
   "id": "fe9215cb-874d-4e08-9168-ce898aff920b",
   "metadata": {},
   "source": [
    "Finding no of unique values in each column"
   ]
  },
  {
   "cell_type": "code",
   "execution_count": 137,
   "id": "11c17fef-97f8-47af-b9ba-b8f72b56f9db",
   "metadata": {},
   "outputs": [
    {
     "data": {
      "text/plain": [
       "Al                       95\n",
       "Co                       91\n",
       "Cr                       90\n",
       "Fe                       98\n",
       "Ni                       93\n",
       "Cu                       36\n",
       "Mn                       50\n",
       "Ti                       77\n",
       "V                        58\n",
       "Nb                       66\n",
       "Mo                       53\n",
       "Zr                       53\n",
       "Hf                       40\n",
       "Ta                       38\n",
       "W                        19\n",
       "C                        29\n",
       "Mg                       13\n",
       "Zn                       11\n",
       "Si                       31\n",
       "Re                        2\n",
       "N                         3\n",
       "Sc                        1\n",
       "Li                        3\n",
       "Sn                        3\n",
       "Be                        1\n",
       "Num_of_Elem               6\n",
       "Density_calc            432\n",
       "dHmix                   408\n",
       "dSmix                   248\n",
       "dGmix                   442\n",
       "Tm                      435\n",
       "n.Para                  441\n",
       "Atom.Size.Diff          436\n",
       "Elect.Diff              392\n",
       "VEC                     307\n",
       "Sythesis_Route            2\n",
       "Hot-Cold_Working          3\n",
       "Homogenization_Temp      12\n",
       "Homogenization_Time      13\n",
       "Annealing_Temp           14\n",
       "Annealing_Time_(min)     16\n",
       "Quenching                 7\n",
       "HPR                       7\n",
       "Microstructure_          28\n",
       "Multiphase                4\n",
       "IM_Structure             35\n",
       "Microstructure            7\n",
       "Phases                    4\n",
       "dtype: int64"
      ]
     },
     "execution_count": 137,
     "metadata": {},
     "output_type": "execute_result"
    }
   ],
   "source": [
    "df.nunique()"
   ]
  },
  {
   "cell_type": "markdown",
   "id": "f884e31f-8aa4-463e-8814-a3544d0727c5",
   "metadata": {},
   "source": [
    "Dropping columns which have too many null values."
   ]
  },
  {
   "cell_type": "code",
   "execution_count": 138,
   "id": "3a6138f4-2cad-45b4-b8e8-ef879b6ee67f",
   "metadata": {},
   "outputs": [],
   "source": [
    "df.drop(columns = ['Annealing_Time_(min)','Homogenization_Time','Homogenization_Temp','Hot-Cold_Working','Quenching','Annealing_Temp','HPR'],inplace = True)"
   ]
  },
  {
   "cell_type": "markdown",
   "id": "fe374386-78c2-454e-8d47-a8489520ece9",
   "metadata": {},
   "source": [
    "Again finding out if there are any duplicate rows and dropping them."
   ]
  },
  {
   "cell_type": "code",
   "execution_count": 139,
   "id": "015695fc-559a-433b-aceb-292b9730c9b0",
   "metadata": {},
   "outputs": [
    {
     "data": {
      "text/plain": [
       "10"
      ]
     },
     "execution_count": 139,
     "metadata": {},
     "output_type": "execute_result"
    }
   ],
   "source": [
    "df.duplicated().sum()"
   ]
  },
  {
   "cell_type": "code",
   "execution_count": 140,
   "id": "2bb745a0-d9ed-4810-a165-ba6e7b76cfaa",
   "metadata": {},
   "outputs": [],
   "source": [
    "df.drop_duplicates(inplace = True)"
   ]
  },
  {
   "cell_type": "markdown",
   "id": "53be662f-3f99-49bf-90c4-6144dcd32641",
   "metadata": {},
   "source": [
    "Dropping columns which have similar data."
   ]
  },
  {
   "cell_type": "code",
   "execution_count": 141,
   "id": "08fe9b51-89d4-4d0b-82e1-4e7d81669e97",
   "metadata": {},
   "outputs": [],
   "source": [
    "df.drop(columns = ['Microstructure_','Microstructure','Multiphase','IM_Structure'],inplace = True)"
   ]
  },
  {
   "cell_type": "markdown",
   "id": "da436aeb-fe45-4cc9-b93c-a991e2f240d2",
   "metadata": {},
   "source": [
    "Dropping rows having only NaN values."
   ]
  },
  {
   "cell_type": "code",
   "execution_count": 142,
   "id": "6cb9e5d2-7258-4313-9b9c-d77be6ca31f7",
   "metadata": {},
   "outputs": [],
   "source": [
    "df.dropna(inplace = True)"
   ]
  },
  {
   "cell_type": "code",
   "execution_count": 143,
   "id": "fe8ba778-5f0e-4535-819c-1a113b0746eb",
   "metadata": {},
   "outputs": [
    {
     "data": {
      "text/plain": [
       "1"
      ]
     },
     "execution_count": 143,
     "metadata": {},
     "output_type": "execute_result"
    }
   ],
   "source": [
    "df.duplicated().sum()"
   ]
  },
  {
   "cell_type": "code",
   "execution_count": 144,
   "id": "e6f25f9f-21af-44e4-af6d-2e0430d9e199",
   "metadata": {},
   "outputs": [],
   "source": [
    "df.drop_duplicates(inplace = True)"
   ]
  },
  {
   "cell_type": "code",
   "execution_count": 145,
   "id": "3ed84971-dffd-402b-9953-1a430f6685b0",
   "metadata": {},
   "outputs": [
    {
     "data": {
      "text/plain": [
       "(449, 37)"
      ]
     },
     "execution_count": 145,
     "metadata": {},
     "output_type": "execute_result"
    }
   ],
   "source": [
    "df.shape"
   ]
  },
  {
   "cell_type": "code",
   "execution_count": 146,
   "id": "1cecc606-3e54-4c84-8086-975f705c40f8",
   "metadata": {},
   "outputs": [
    {
     "name": "stdout",
     "output_type": "stream",
     "text": [
      "<class 'pandas.core.frame.DataFrame'>\n",
      "Index: 449 entries, 0 to 1359\n",
      "Data columns (total 37 columns):\n",
      " #   Column          Non-Null Count  Dtype  \n",
      "---  ------          --------------  -----  \n",
      " 0   Al              449 non-null    float64\n",
      " 1   Co              449 non-null    float64\n",
      " 2   Cr              449 non-null    float64\n",
      " 3   Fe              449 non-null    float64\n",
      " 4   Ni              449 non-null    float64\n",
      " 5   Cu              449 non-null    float64\n",
      " 6   Mn              449 non-null    float64\n",
      " 7   Ti              449 non-null    float64\n",
      " 8   V               449 non-null    float64\n",
      " 9   Nb              449 non-null    float64\n",
      " 10  Mo              449 non-null    float64\n",
      " 11  Zr              449 non-null    float64\n",
      " 12  Hf              449 non-null    float64\n",
      " 13  Ta              449 non-null    float64\n",
      " 14  W               449 non-null    float64\n",
      " 15  C               449 non-null    float64\n",
      " 16  Mg              449 non-null    float64\n",
      " 17  Zn              449 non-null    float64\n",
      " 18  Si              449 non-null    float64\n",
      " 19  Re              449 non-null    float64\n",
      " 20  N               449 non-null    float64\n",
      " 21  Sc              449 non-null    float64\n",
      " 22  Li              449 non-null    float64\n",
      " 23  Sn              449 non-null    float64\n",
      " 24  Be              449 non-null    float64\n",
      " 25  Num_of_Elem     449 non-null    float64\n",
      " 26  Density_calc    449 non-null    float64\n",
      " 27  dHmix           449 non-null    float64\n",
      " 28  dSmix           449 non-null    float64\n",
      " 29  dGmix           449 non-null    float64\n",
      " 30  Tm              449 non-null    float64\n",
      " 31  n.Para          449 non-null    float64\n",
      " 32  Atom.Size.Diff  449 non-null    float64\n",
      " 33  Elect.Diff      449 non-null    float64\n",
      " 34  VEC             449 non-null    float64\n",
      " 35  Sythesis_Route  449 non-null    object \n",
      " 36  Phases          449 non-null    object \n",
      "dtypes: float64(35), object(2)\n",
      "memory usage: 133.3+ KB\n"
     ]
    }
   ],
   "source": [
    "df.info()"
   ]
  },
  {
   "cell_type": "markdown",
   "id": "f6e811c8-95e0-443a-a9c7-cb6e21ba4de1",
   "metadata": {},
   "source": [
    "Finding value counts of our two categorical columns 'Phases' ans 'Sythesis_Route'"
   ]
  },
  {
   "cell_type": "code",
   "execution_count": 147,
   "id": "8fe23500-c1e3-43ce-8f60-764dacd24c62",
   "metadata": {},
   "outputs": [
    {
     "data": {
      "text/plain": [
       "Phases\n",
       "BCC_SS          179\n",
       "Im              164\n",
       "FCC_SS           71\n",
       "FCC_PLUS_BCC     35\n",
       "Name: count, dtype: int64"
      ]
     },
     "execution_count": 147,
     "metadata": {},
     "output_type": "execute_result"
    }
   ],
   "source": [
    "df['Phases'].value_counts()"
   ]
  },
  {
   "cell_type": "code",
   "execution_count": 148,
   "id": "5c082310-df6d-4afd-a34c-788d0e263853",
   "metadata": {},
   "outputs": [
    {
     "data": {
      "text/plain": [
       "Sythesis_Route\n",
       "AC    428\n",
       "PM     21\n",
       "Name: count, dtype: int64"
      ]
     },
     "execution_count": 148,
     "metadata": {},
     "output_type": "execute_result"
    }
   ],
   "source": [
    "df['Sythesis_Route'].value_counts()"
   ]
  },
  {
   "cell_type": "markdown",
   "id": "3ce69617-0839-4392-b2cd-4ad11c498006",
   "metadata": {},
   "source": [
    "Resetting the index after dropping all duplicate and null rows."
   ]
  },
  {
   "cell_type": "code",
   "execution_count": 149,
   "id": "915efd51-2ef4-412c-8bea-f5d56311cc16",
   "metadata": {},
   "outputs": [],
   "source": [
    "df.reset_index(inplace = True)"
   ]
  },
  {
   "cell_type": "code",
   "execution_count": 150,
   "id": "17505c62-13f2-4c4d-9ef5-677eb6d14c71",
   "metadata": {},
   "outputs": [],
   "source": [
    "df.drop(columns = ['index'], inplace = True)"
   ]
  },
  {
   "cell_type": "markdown",
   "id": "b6f18ad5-fc65-42de-b5e5-7a66538756ae",
   "metadata": {
    "jp-MarkdownHeadingCollapsed": true
   },
   "source": [
    "#### FEATURE CONSTRUCTION AND FEATURE ENCODING"
   ]
  },
  {
   "cell_type": "markdown",
   "id": "ba629b46-6a55-4540-a1b1-d7eacdaeb639",
   "metadata": {},
   "source": [
    "**FEATURE CONSTRUCTION** : Created new features from existing ones to capture\n",
    "additional information that may improve model performance on the basis of domain knowledge. "
   ]
  },
  {
   "cell_type": "markdown",
   "id": "838bb6f6-1d75-4115-9dbe-b0e30a920416",
   "metadata": {},
   "source": [
    "Introducing a new parameter 'omega' in our dataframe"
   ]
  },
  {
   "cell_type": "code",
   "execution_count": 151,
   "id": "0605c35a-8d64-4bf1-b692-23af22d0b645",
   "metadata": {},
   "outputs": [],
   "source": [
    "df['omega'] = (df['Tm']*df['dSmix'])/np.abs(df['dHmix'])"
   ]
  },
  {
   "cell_type": "markdown",
   "id": "d5a986d6-5b8c-4800-a003-88d72caafa6f",
   "metadata": {},
   "source": [
    "Introducing a new parameter 'lambda' in our dataframe"
   ]
  },
  {
   "cell_type": "code",
   "execution_count": 152,
   "id": "44b3c8c4-aa1b-4b5b-baa7-07c2cd222e5f",
   "metadata": {},
   "outputs": [],
   "source": [
    "df['lambda'] = df['dSmix']/(df['Atom.Size.Diff']**2)"
   ]
  },
  {
   "cell_type": "code",
   "execution_count": 153,
   "id": "afc7e2df-352b-4835-a3e6-df513f5ffcf9",
   "metadata": {},
   "outputs": [],
   "source": [
    "# Appending radii of different elements in the dataframe.\n",
    "df['r_Al'] = 143\n",
    "df['r_Co'] = 125\n",
    "df['r_Cr'] = 128\n",
    "df['r_Fe'] = 126\n",
    "df['r_Ni'] = 124\n",
    "df['r_Cu'] = 128\n",
    "df['r_Mn'] = 127\n",
    "df['r_Ti'] = 147\n",
    "df['r_V'] = 134\n",
    "df['r_Nb'] = 146\n",
    "df['r_Mo'] = 139\n",
    "df['r_Zr'] = 160\n",
    "df['r_Hf'] = 159\n",
    "df['r_Ta'] = 146\n",
    "df['r_W'] = 139\n",
    "df['r_C'] = 75\n",
    "df['r_Mg'] = 160\n",
    "df['r_Zn'] = 134\n",
    "df['r_Si'] = 116\n",
    "df['r_Re'] = 137\n",
    "df['r_N'] = 71\n",
    "df['r_Sc'] = 162\n",
    "df['r_Li'] = 152\n",
    "df['r_Sn'] = 140\n",
    "df['r_Be'] = 112"
   ]
  },
  {
   "cell_type": "markdown",
   "id": "d8d1a1ad-4196-4ddf-8b59-f64e61a03e0c",
   "metadata": {},
   "source": [
    "Calculating the weighted average and introducing it as a new column in dataframe"
   ]
  },
  {
   "cell_type": "code",
   "execution_count": 154,
   "id": "d13b8cd3-bc2a-48a2-802e-4eb8d2eb3428",
   "metadata": {},
   "outputs": [],
   "source": [
    "df['r_avg'] = (df['Al']*df['r_Al']) + (df['Co']*df['r_Co']) + (df['Cr']*df['r_Cr']) + (df['Fe']*df['r_Fe']) + (df['Ni']*df['r_Ni']) + (df['Cu']*df['r_Cu']) + (df['Mn']*df['r_Mn']) + (df['Ti']*df['r_Ti']) + (df['V']*df['r_V']) + (df['Nb']*df['r_Nb']) + (df['Mo']*df['r_Mo']) + (df['Zr']*df['r_Zr']) + (df['Hf']*df['r_Hf']) + (df['Ta']*df['r_Ta']) + (df['W']*df['r_W']) + (df['C']*df['r_C']) + (df['Mg']*df['r_Mg']) + (df['Zn']*df['r_Zn']) + (df['Si']*df['r_Si']) + (df['Re']*df['r_Re']) + (df['N']*df['r_N']) + (df['Sc']*df['r_Sc']) + (df['Li']*df['r_Li']) + (df['Sn']*df['r_Sn']) + (df['Be']*df['r_Be'])"
   ]
  },
  {
   "cell_type": "code",
   "execution_count": 155,
   "id": "f7289d97-84f2-4707-ab86-aa4446757c74",
   "metadata": {},
   "outputs": [
    {
     "data": {
      "text/html": [
       "<div>\n",
       "<style scoped>\n",
       "    .dataframe tbody tr th:only-of-type {\n",
       "        vertical-align: middle;\n",
       "    }\n",
       "\n",
       "    .dataframe tbody tr th {\n",
       "        vertical-align: top;\n",
       "    }\n",
       "\n",
       "    .dataframe thead th {\n",
       "        text-align: right;\n",
       "    }\n",
       "</style>\n",
       "<table border=\"1\" class=\"dataframe\">\n",
       "  <thead>\n",
       "    <tr style=\"text-align: right;\">\n",
       "      <th></th>\n",
       "      <th>Al</th>\n",
       "      <th>Co</th>\n",
       "      <th>Cr</th>\n",
       "      <th>Fe</th>\n",
       "      <th>Ni</th>\n",
       "      <th>Cu</th>\n",
       "      <th>Mn</th>\n",
       "      <th>Ti</th>\n",
       "      <th>V</th>\n",
       "      <th>Nb</th>\n",
       "      <th>...</th>\n",
       "      <th>C</th>\n",
       "      <th>Mg</th>\n",
       "      <th>Zn</th>\n",
       "      <th>Si</th>\n",
       "      <th>Re</th>\n",
       "      <th>N</th>\n",
       "      <th>Sc</th>\n",
       "      <th>Li</th>\n",
       "      <th>Sn</th>\n",
       "      <th>Be</th>\n",
       "    </tr>\n",
       "  </thead>\n",
       "  <tbody>\n",
       "    <tr>\n",
       "      <th>0</th>\n",
       "      <td>0.111111</td>\n",
       "      <td>0.000000</td>\n",
       "      <td>0.000000</td>\n",
       "      <td>0.000000</td>\n",
       "      <td>0.000000</td>\n",
       "      <td>0.000000</td>\n",
       "      <td>0.000000</td>\n",
       "      <td>0.222222</td>\n",
       "      <td>0.222222</td>\n",
       "      <td>0.222222</td>\n",
       "      <td>...</td>\n",
       "      <td>0.0</td>\n",
       "      <td>0.000000</td>\n",
       "      <td>0.000000</td>\n",
       "      <td>0.000000</td>\n",
       "      <td>0.0</td>\n",
       "      <td>0.0</td>\n",
       "      <td>0.0</td>\n",
       "      <td>0.0</td>\n",
       "      <td>0.0</td>\n",
       "      <td>0.0</td>\n",
       "    </tr>\n",
       "    <tr>\n",
       "      <th>1</th>\n",
       "      <td>0.157895</td>\n",
       "      <td>0.000000</td>\n",
       "      <td>0.000000</td>\n",
       "      <td>0.000000</td>\n",
       "      <td>0.000000</td>\n",
       "      <td>0.000000</td>\n",
       "      <td>0.000000</td>\n",
       "      <td>0.210526</td>\n",
       "      <td>0.210526</td>\n",
       "      <td>0.210526</td>\n",
       "      <td>...</td>\n",
       "      <td>0.0</td>\n",
       "      <td>0.000000</td>\n",
       "      <td>0.000000</td>\n",
       "      <td>0.000000</td>\n",
       "      <td>0.0</td>\n",
       "      <td>0.0</td>\n",
       "      <td>0.0</td>\n",
       "      <td>0.0</td>\n",
       "      <td>0.0</td>\n",
       "      <td>0.0</td>\n",
       "    </tr>\n",
       "    <tr>\n",
       "      <th>2</th>\n",
       "      <td>0.058824</td>\n",
       "      <td>0.000000</td>\n",
       "      <td>0.000000</td>\n",
       "      <td>0.000000</td>\n",
       "      <td>0.000000</td>\n",
       "      <td>0.000000</td>\n",
       "      <td>0.000000</td>\n",
       "      <td>0.235294</td>\n",
       "      <td>0.235294</td>\n",
       "      <td>0.235294</td>\n",
       "      <td>...</td>\n",
       "      <td>0.0</td>\n",
       "      <td>0.000000</td>\n",
       "      <td>0.000000</td>\n",
       "      <td>0.000000</td>\n",
       "      <td>0.0</td>\n",
       "      <td>0.0</td>\n",
       "      <td>0.0</td>\n",
       "      <td>0.0</td>\n",
       "      <td>0.0</td>\n",
       "      <td>0.0</td>\n",
       "    </tr>\n",
       "    <tr>\n",
       "      <th>3</th>\n",
       "      <td>0.058824</td>\n",
       "      <td>0.000000</td>\n",
       "      <td>0.000000</td>\n",
       "      <td>0.000000</td>\n",
       "      <td>0.000000</td>\n",
       "      <td>0.000000</td>\n",
       "      <td>0.000000</td>\n",
       "      <td>0.235294</td>\n",
       "      <td>0.235294</td>\n",
       "      <td>0.235294</td>\n",
       "      <td>...</td>\n",
       "      <td>0.0</td>\n",
       "      <td>0.000000</td>\n",
       "      <td>0.000000</td>\n",
       "      <td>0.000000</td>\n",
       "      <td>0.0</td>\n",
       "      <td>0.0</td>\n",
       "      <td>0.0</td>\n",
       "      <td>0.0</td>\n",
       "      <td>0.0</td>\n",
       "      <td>0.0</td>\n",
       "    </tr>\n",
       "    <tr>\n",
       "      <th>4</th>\n",
       "      <td>0.047619</td>\n",
       "      <td>0.000000</td>\n",
       "      <td>0.000000</td>\n",
       "      <td>0.000000</td>\n",
       "      <td>0.000000</td>\n",
       "      <td>0.000000</td>\n",
       "      <td>0.000000</td>\n",
       "      <td>0.238095</td>\n",
       "      <td>0.238095</td>\n",
       "      <td>0.000000</td>\n",
       "      <td>...</td>\n",
       "      <td>0.0</td>\n",
       "      <td>0.000000</td>\n",
       "      <td>0.000000</td>\n",
       "      <td>0.000000</td>\n",
       "      <td>0.0</td>\n",
       "      <td>0.0</td>\n",
       "      <td>0.0</td>\n",
       "      <td>0.0</td>\n",
       "      <td>0.0</td>\n",
       "      <td>0.0</td>\n",
       "    </tr>\n",
       "    <tr>\n",
       "      <th>...</th>\n",
       "      <td>...</td>\n",
       "      <td>...</td>\n",
       "      <td>...</td>\n",
       "      <td>...</td>\n",
       "      <td>...</td>\n",
       "      <td>...</td>\n",
       "      <td>...</td>\n",
       "      <td>...</td>\n",
       "      <td>...</td>\n",
       "      <td>...</td>\n",
       "      <td>...</td>\n",
       "      <td>...</td>\n",
       "      <td>...</td>\n",
       "      <td>...</td>\n",
       "      <td>...</td>\n",
       "      <td>...</td>\n",
       "      <td>...</td>\n",
       "      <td>...</td>\n",
       "      <td>...</td>\n",
       "      <td>...</td>\n",
       "      <td>...</td>\n",
       "    </tr>\n",
       "    <tr>\n",
       "      <th>444</th>\n",
       "      <td>0.142857</td>\n",
       "      <td>0.142857</td>\n",
       "      <td>0.142857</td>\n",
       "      <td>0.142857</td>\n",
       "      <td>0.000000</td>\n",
       "      <td>0.142857</td>\n",
       "      <td>0.142857</td>\n",
       "      <td>0.142857</td>\n",
       "      <td>0.000000</td>\n",
       "      <td>0.000000</td>\n",
       "      <td>...</td>\n",
       "      <td>0.0</td>\n",
       "      <td>0.000000</td>\n",
       "      <td>0.000000</td>\n",
       "      <td>0.000000</td>\n",
       "      <td>0.0</td>\n",
       "      <td>0.0</td>\n",
       "      <td>0.0</td>\n",
       "      <td>0.0</td>\n",
       "      <td>0.0</td>\n",
       "      <td>0.0</td>\n",
       "    </tr>\n",
       "    <tr>\n",
       "      <th>445</th>\n",
       "      <td>0.142857</td>\n",
       "      <td>0.142857</td>\n",
       "      <td>0.142857</td>\n",
       "      <td>0.142857</td>\n",
       "      <td>0.142857</td>\n",
       "      <td>0.142857</td>\n",
       "      <td>0.142857</td>\n",
       "      <td>0.000000</td>\n",
       "      <td>0.000000</td>\n",
       "      <td>0.000000</td>\n",
       "      <td>...</td>\n",
       "      <td>0.0</td>\n",
       "      <td>0.000000</td>\n",
       "      <td>0.000000</td>\n",
       "      <td>0.000000</td>\n",
       "      <td>0.0</td>\n",
       "      <td>0.0</td>\n",
       "      <td>0.0</td>\n",
       "      <td>0.0</td>\n",
       "      <td>0.0</td>\n",
       "      <td>0.0</td>\n",
       "    </tr>\n",
       "    <tr>\n",
       "      <th>446</th>\n",
       "      <td>0.584708</td>\n",
       "      <td>0.000000</td>\n",
       "      <td>0.000000</td>\n",
       "      <td>0.000000</td>\n",
       "      <td>0.000000</td>\n",
       "      <td>0.045477</td>\n",
       "      <td>0.000000</td>\n",
       "      <td>0.000000</td>\n",
       "      <td>0.000000</td>\n",
       "      <td>0.000000</td>\n",
       "      <td>...</td>\n",
       "      <td>0.0</td>\n",
       "      <td>0.314843</td>\n",
       "      <td>0.044978</td>\n",
       "      <td>0.009995</td>\n",
       "      <td>0.0</td>\n",
       "      <td>0.0</td>\n",
       "      <td>0.0</td>\n",
       "      <td>0.0</td>\n",
       "      <td>0.0</td>\n",
       "      <td>0.0</td>\n",
       "    </tr>\n",
       "    <tr>\n",
       "      <th>447</th>\n",
       "      <td>0.629685</td>\n",
       "      <td>0.000000</td>\n",
       "      <td>0.000000</td>\n",
       "      <td>0.000000</td>\n",
       "      <td>0.000000</td>\n",
       "      <td>0.045477</td>\n",
       "      <td>0.000000</td>\n",
       "      <td>0.000000</td>\n",
       "      <td>0.000000</td>\n",
       "      <td>0.000000</td>\n",
       "      <td>...</td>\n",
       "      <td>0.0</td>\n",
       "      <td>0.269865</td>\n",
       "      <td>0.044978</td>\n",
       "      <td>0.009995</td>\n",
       "      <td>0.0</td>\n",
       "      <td>0.0</td>\n",
       "      <td>0.0</td>\n",
       "      <td>0.0</td>\n",
       "      <td>0.0</td>\n",
       "      <td>0.0</td>\n",
       "    </tr>\n",
       "    <tr>\n",
       "      <th>448</th>\n",
       "      <td>0.666667</td>\n",
       "      <td>0.000000</td>\n",
       "      <td>0.000000</td>\n",
       "      <td>0.000000</td>\n",
       "      <td>0.000000</td>\n",
       "      <td>0.045477</td>\n",
       "      <td>0.000000</td>\n",
       "      <td>0.000000</td>\n",
       "      <td>0.000000</td>\n",
       "      <td>0.000000</td>\n",
       "      <td>...</td>\n",
       "      <td>0.0</td>\n",
       "      <td>0.232884</td>\n",
       "      <td>0.044978</td>\n",
       "      <td>0.009995</td>\n",
       "      <td>0.0</td>\n",
       "      <td>0.0</td>\n",
       "      <td>0.0</td>\n",
       "      <td>0.0</td>\n",
       "      <td>0.0</td>\n",
       "      <td>0.0</td>\n",
       "    </tr>\n",
       "  </tbody>\n",
       "</table>\n",
       "<p>449 rows × 25 columns</p>\n",
       "</div>"
      ],
      "text/plain": [
       "           Al        Co        Cr        Fe        Ni        Cu        Mn  \\\n",
       "0    0.111111  0.000000  0.000000  0.000000  0.000000  0.000000  0.000000   \n",
       "1    0.157895  0.000000  0.000000  0.000000  0.000000  0.000000  0.000000   \n",
       "2    0.058824  0.000000  0.000000  0.000000  0.000000  0.000000  0.000000   \n",
       "3    0.058824  0.000000  0.000000  0.000000  0.000000  0.000000  0.000000   \n",
       "4    0.047619  0.000000  0.000000  0.000000  0.000000  0.000000  0.000000   \n",
       "..        ...       ...       ...       ...       ...       ...       ...   \n",
       "444  0.142857  0.142857  0.142857  0.142857  0.000000  0.142857  0.142857   \n",
       "445  0.142857  0.142857  0.142857  0.142857  0.142857  0.142857  0.142857   \n",
       "446  0.584708  0.000000  0.000000  0.000000  0.000000  0.045477  0.000000   \n",
       "447  0.629685  0.000000  0.000000  0.000000  0.000000  0.045477  0.000000   \n",
       "448  0.666667  0.000000  0.000000  0.000000  0.000000  0.045477  0.000000   \n",
       "\n",
       "           Ti         V        Nb  ...    C        Mg        Zn        Si  \\\n",
       "0    0.222222  0.222222  0.222222  ...  0.0  0.000000  0.000000  0.000000   \n",
       "1    0.210526  0.210526  0.210526  ...  0.0  0.000000  0.000000  0.000000   \n",
       "2    0.235294  0.235294  0.235294  ...  0.0  0.000000  0.000000  0.000000   \n",
       "3    0.235294  0.235294  0.235294  ...  0.0  0.000000  0.000000  0.000000   \n",
       "4    0.238095  0.238095  0.000000  ...  0.0  0.000000  0.000000  0.000000   \n",
       "..        ...       ...       ...  ...  ...       ...       ...       ...   \n",
       "444  0.142857  0.000000  0.000000  ...  0.0  0.000000  0.000000  0.000000   \n",
       "445  0.000000  0.000000  0.000000  ...  0.0  0.000000  0.000000  0.000000   \n",
       "446  0.000000  0.000000  0.000000  ...  0.0  0.314843  0.044978  0.009995   \n",
       "447  0.000000  0.000000  0.000000  ...  0.0  0.269865  0.044978  0.009995   \n",
       "448  0.000000  0.000000  0.000000  ...  0.0  0.232884  0.044978  0.009995   \n",
       "\n",
       "      Re    N   Sc   Li   Sn   Be  \n",
       "0    0.0  0.0  0.0  0.0  0.0  0.0  \n",
       "1    0.0  0.0  0.0  0.0  0.0  0.0  \n",
       "2    0.0  0.0  0.0  0.0  0.0  0.0  \n",
       "3    0.0  0.0  0.0  0.0  0.0  0.0  \n",
       "4    0.0  0.0  0.0  0.0  0.0  0.0  \n",
       "..   ...  ...  ...  ...  ...  ...  \n",
       "444  0.0  0.0  0.0  0.0  0.0  0.0  \n",
       "445  0.0  0.0  0.0  0.0  0.0  0.0  \n",
       "446  0.0  0.0  0.0  0.0  0.0  0.0  \n",
       "447  0.0  0.0  0.0  0.0  0.0  0.0  \n",
       "448  0.0  0.0  0.0  0.0  0.0  0.0  \n",
       "\n",
       "[449 rows x 25 columns]"
      ]
     },
     "execution_count": 155,
     "metadata": {},
     "output_type": "execute_result"
    }
   ],
   "source": [
    "# Fetching composition of all elements in the alloy\n",
    "df2 = df.iloc[:,0:25]\n",
    "df2"
   ]
  },
  {
   "cell_type": "code",
   "execution_count": 156,
   "id": "f0be8fd2-ded7-42fc-a85e-44c2768c5918",
   "metadata": {},
   "outputs": [
    {
     "data": {
      "text/html": [
       "<div>\n",
       "<style scoped>\n",
       "    .dataframe tbody tr th:only-of-type {\n",
       "        vertical-align: middle;\n",
       "    }\n",
       "\n",
       "    .dataframe tbody tr th {\n",
       "        vertical-align: top;\n",
       "    }\n",
       "\n",
       "    .dataframe thead th {\n",
       "        text-align: right;\n",
       "    }\n",
       "</style>\n",
       "<table border=\"1\" class=\"dataframe\">\n",
       "  <thead>\n",
       "    <tr style=\"text-align: right;\">\n",
       "      <th></th>\n",
       "      <th>r_Al</th>\n",
       "      <th>r_Co</th>\n",
       "      <th>r_Cr</th>\n",
       "      <th>r_Fe</th>\n",
       "      <th>r_Ni</th>\n",
       "      <th>r_Cu</th>\n",
       "      <th>r_Mn</th>\n",
       "      <th>r_Ti</th>\n",
       "      <th>r_V</th>\n",
       "      <th>r_Nb</th>\n",
       "      <th>...</th>\n",
       "      <th>r_C</th>\n",
       "      <th>r_Mg</th>\n",
       "      <th>r_Zn</th>\n",
       "      <th>r_Si</th>\n",
       "      <th>r_Re</th>\n",
       "      <th>r_N</th>\n",
       "      <th>r_Sc</th>\n",
       "      <th>r_Li</th>\n",
       "      <th>r_Sn</th>\n",
       "      <th>r_Be</th>\n",
       "    </tr>\n",
       "  </thead>\n",
       "  <tbody>\n",
       "    <tr>\n",
       "      <th>0</th>\n",
       "      <td>143</td>\n",
       "      <td>125</td>\n",
       "      <td>128</td>\n",
       "      <td>126</td>\n",
       "      <td>124</td>\n",
       "      <td>128</td>\n",
       "      <td>127</td>\n",
       "      <td>147</td>\n",
       "      <td>134</td>\n",
       "      <td>146</td>\n",
       "      <td>...</td>\n",
       "      <td>75</td>\n",
       "      <td>160</td>\n",
       "      <td>134</td>\n",
       "      <td>116</td>\n",
       "      <td>137</td>\n",
       "      <td>71</td>\n",
       "      <td>162</td>\n",
       "      <td>152</td>\n",
       "      <td>140</td>\n",
       "      <td>112</td>\n",
       "    </tr>\n",
       "    <tr>\n",
       "      <th>1</th>\n",
       "      <td>143</td>\n",
       "      <td>125</td>\n",
       "      <td>128</td>\n",
       "      <td>126</td>\n",
       "      <td>124</td>\n",
       "      <td>128</td>\n",
       "      <td>127</td>\n",
       "      <td>147</td>\n",
       "      <td>134</td>\n",
       "      <td>146</td>\n",
       "      <td>...</td>\n",
       "      <td>75</td>\n",
       "      <td>160</td>\n",
       "      <td>134</td>\n",
       "      <td>116</td>\n",
       "      <td>137</td>\n",
       "      <td>71</td>\n",
       "      <td>162</td>\n",
       "      <td>152</td>\n",
       "      <td>140</td>\n",
       "      <td>112</td>\n",
       "    </tr>\n",
       "    <tr>\n",
       "      <th>2</th>\n",
       "      <td>143</td>\n",
       "      <td>125</td>\n",
       "      <td>128</td>\n",
       "      <td>126</td>\n",
       "      <td>124</td>\n",
       "      <td>128</td>\n",
       "      <td>127</td>\n",
       "      <td>147</td>\n",
       "      <td>134</td>\n",
       "      <td>146</td>\n",
       "      <td>...</td>\n",
       "      <td>75</td>\n",
       "      <td>160</td>\n",
       "      <td>134</td>\n",
       "      <td>116</td>\n",
       "      <td>137</td>\n",
       "      <td>71</td>\n",
       "      <td>162</td>\n",
       "      <td>152</td>\n",
       "      <td>140</td>\n",
       "      <td>112</td>\n",
       "    </tr>\n",
       "    <tr>\n",
       "      <th>3</th>\n",
       "      <td>143</td>\n",
       "      <td>125</td>\n",
       "      <td>128</td>\n",
       "      <td>126</td>\n",
       "      <td>124</td>\n",
       "      <td>128</td>\n",
       "      <td>127</td>\n",
       "      <td>147</td>\n",
       "      <td>134</td>\n",
       "      <td>146</td>\n",
       "      <td>...</td>\n",
       "      <td>75</td>\n",
       "      <td>160</td>\n",
       "      <td>134</td>\n",
       "      <td>116</td>\n",
       "      <td>137</td>\n",
       "      <td>71</td>\n",
       "      <td>162</td>\n",
       "      <td>152</td>\n",
       "      <td>140</td>\n",
       "      <td>112</td>\n",
       "    </tr>\n",
       "    <tr>\n",
       "      <th>4</th>\n",
       "      <td>143</td>\n",
       "      <td>125</td>\n",
       "      <td>128</td>\n",
       "      <td>126</td>\n",
       "      <td>124</td>\n",
       "      <td>128</td>\n",
       "      <td>127</td>\n",
       "      <td>147</td>\n",
       "      <td>134</td>\n",
       "      <td>146</td>\n",
       "      <td>...</td>\n",
       "      <td>75</td>\n",
       "      <td>160</td>\n",
       "      <td>134</td>\n",
       "      <td>116</td>\n",
       "      <td>137</td>\n",
       "      <td>71</td>\n",
       "      <td>162</td>\n",
       "      <td>152</td>\n",
       "      <td>140</td>\n",
       "      <td>112</td>\n",
       "    </tr>\n",
       "    <tr>\n",
       "      <th>...</th>\n",
       "      <td>...</td>\n",
       "      <td>...</td>\n",
       "      <td>...</td>\n",
       "      <td>...</td>\n",
       "      <td>...</td>\n",
       "      <td>...</td>\n",
       "      <td>...</td>\n",
       "      <td>...</td>\n",
       "      <td>...</td>\n",
       "      <td>...</td>\n",
       "      <td>...</td>\n",
       "      <td>...</td>\n",
       "      <td>...</td>\n",
       "      <td>...</td>\n",
       "      <td>...</td>\n",
       "      <td>...</td>\n",
       "      <td>...</td>\n",
       "      <td>...</td>\n",
       "      <td>...</td>\n",
       "      <td>...</td>\n",
       "      <td>...</td>\n",
       "    </tr>\n",
       "    <tr>\n",
       "      <th>444</th>\n",
       "      <td>143</td>\n",
       "      <td>125</td>\n",
       "      <td>128</td>\n",
       "      <td>126</td>\n",
       "      <td>124</td>\n",
       "      <td>128</td>\n",
       "      <td>127</td>\n",
       "      <td>147</td>\n",
       "      <td>134</td>\n",
       "      <td>146</td>\n",
       "      <td>...</td>\n",
       "      <td>75</td>\n",
       "      <td>160</td>\n",
       "      <td>134</td>\n",
       "      <td>116</td>\n",
       "      <td>137</td>\n",
       "      <td>71</td>\n",
       "      <td>162</td>\n",
       "      <td>152</td>\n",
       "      <td>140</td>\n",
       "      <td>112</td>\n",
       "    </tr>\n",
       "    <tr>\n",
       "      <th>445</th>\n",
       "      <td>143</td>\n",
       "      <td>125</td>\n",
       "      <td>128</td>\n",
       "      <td>126</td>\n",
       "      <td>124</td>\n",
       "      <td>128</td>\n",
       "      <td>127</td>\n",
       "      <td>147</td>\n",
       "      <td>134</td>\n",
       "      <td>146</td>\n",
       "      <td>...</td>\n",
       "      <td>75</td>\n",
       "      <td>160</td>\n",
       "      <td>134</td>\n",
       "      <td>116</td>\n",
       "      <td>137</td>\n",
       "      <td>71</td>\n",
       "      <td>162</td>\n",
       "      <td>152</td>\n",
       "      <td>140</td>\n",
       "      <td>112</td>\n",
       "    </tr>\n",
       "    <tr>\n",
       "      <th>446</th>\n",
       "      <td>143</td>\n",
       "      <td>125</td>\n",
       "      <td>128</td>\n",
       "      <td>126</td>\n",
       "      <td>124</td>\n",
       "      <td>128</td>\n",
       "      <td>127</td>\n",
       "      <td>147</td>\n",
       "      <td>134</td>\n",
       "      <td>146</td>\n",
       "      <td>...</td>\n",
       "      <td>75</td>\n",
       "      <td>160</td>\n",
       "      <td>134</td>\n",
       "      <td>116</td>\n",
       "      <td>137</td>\n",
       "      <td>71</td>\n",
       "      <td>162</td>\n",
       "      <td>152</td>\n",
       "      <td>140</td>\n",
       "      <td>112</td>\n",
       "    </tr>\n",
       "    <tr>\n",
       "      <th>447</th>\n",
       "      <td>143</td>\n",
       "      <td>125</td>\n",
       "      <td>128</td>\n",
       "      <td>126</td>\n",
       "      <td>124</td>\n",
       "      <td>128</td>\n",
       "      <td>127</td>\n",
       "      <td>147</td>\n",
       "      <td>134</td>\n",
       "      <td>146</td>\n",
       "      <td>...</td>\n",
       "      <td>75</td>\n",
       "      <td>160</td>\n",
       "      <td>134</td>\n",
       "      <td>116</td>\n",
       "      <td>137</td>\n",
       "      <td>71</td>\n",
       "      <td>162</td>\n",
       "      <td>152</td>\n",
       "      <td>140</td>\n",
       "      <td>112</td>\n",
       "    </tr>\n",
       "    <tr>\n",
       "      <th>448</th>\n",
       "      <td>143</td>\n",
       "      <td>125</td>\n",
       "      <td>128</td>\n",
       "      <td>126</td>\n",
       "      <td>124</td>\n",
       "      <td>128</td>\n",
       "      <td>127</td>\n",
       "      <td>147</td>\n",
       "      <td>134</td>\n",
       "      <td>146</td>\n",
       "      <td>...</td>\n",
       "      <td>75</td>\n",
       "      <td>160</td>\n",
       "      <td>134</td>\n",
       "      <td>116</td>\n",
       "      <td>137</td>\n",
       "      <td>71</td>\n",
       "      <td>162</td>\n",
       "      <td>152</td>\n",
       "      <td>140</td>\n",
       "      <td>112</td>\n",
       "    </tr>\n",
       "  </tbody>\n",
       "</table>\n",
       "<p>449 rows × 25 columns</p>\n",
       "</div>"
      ],
      "text/plain": [
       "     r_Al  r_Co  r_Cr  r_Fe  r_Ni  r_Cu  r_Mn  r_Ti  r_V  r_Nb  ...  r_C  \\\n",
       "0     143   125   128   126   124   128   127   147  134   146  ...   75   \n",
       "1     143   125   128   126   124   128   127   147  134   146  ...   75   \n",
       "2     143   125   128   126   124   128   127   147  134   146  ...   75   \n",
       "3     143   125   128   126   124   128   127   147  134   146  ...   75   \n",
       "4     143   125   128   126   124   128   127   147  134   146  ...   75   \n",
       "..    ...   ...   ...   ...   ...   ...   ...   ...  ...   ...  ...  ...   \n",
       "444   143   125   128   126   124   128   127   147  134   146  ...   75   \n",
       "445   143   125   128   126   124   128   127   147  134   146  ...   75   \n",
       "446   143   125   128   126   124   128   127   147  134   146  ...   75   \n",
       "447   143   125   128   126   124   128   127   147  134   146  ...   75   \n",
       "448   143   125   128   126   124   128   127   147  134   146  ...   75   \n",
       "\n",
       "     r_Mg  r_Zn  r_Si  r_Re  r_N  r_Sc  r_Li  r_Sn  r_Be  \n",
       "0     160   134   116   137   71   162   152   140   112  \n",
       "1     160   134   116   137   71   162   152   140   112  \n",
       "2     160   134   116   137   71   162   152   140   112  \n",
       "3     160   134   116   137   71   162   152   140   112  \n",
       "4     160   134   116   137   71   162   152   140   112  \n",
       "..    ...   ...   ...   ...  ...   ...   ...   ...   ...  \n",
       "444   160   134   116   137   71   162   152   140   112  \n",
       "445   160   134   116   137   71   162   152   140   112  \n",
       "446   160   134   116   137   71   162   152   140   112  \n",
       "447   160   134   116   137   71   162   152   140   112  \n",
       "448   160   134   116   137   71   162   152   140   112  \n",
       "\n",
       "[449 rows x 25 columns]"
      ]
     },
     "execution_count": 156,
     "metadata": {},
     "output_type": "execute_result"
    }
   ],
   "source": [
    "# Fetching radius of all elements\n",
    "df3 = df.iloc[:,39:64]\n",
    "df3"
   ]
  },
  {
   "cell_type": "code",
   "execution_count": 157,
   "id": "685ef824-4ada-4d63-8376-9fbb62e17616",
   "metadata": {},
   "outputs": [],
   "source": [
    "#Code for selecting the largest and smallest atom in the alloy\n",
    "r_min = []\n",
    "r_max = []\n",
    "for i in range(df2.shape[0]):\n",
    "  a= []\n",
    "  for j in range(df2.shape[1]):\n",
    "    if df2.iloc[i, j] != 0:\n",
    "      a.append(df3.iloc[i, j])\n",
    "  r_min.append(min(a))\n",
    "  r_max.append(max(a))\n",
    "df['r_minimum'] = r_min\n",
    "df['r_maximum'] = r_max"
   ]
  },
  {
   "cell_type": "markdown",
   "id": "cf1383c0-1c49-41e5-8bb7-ae393aa80de0",
   "metadata": {},
   "source": [
    "Introducing a new parameter: \"gamma\" in our dataframe"
   ]
  },
  {
   "cell_type": "code",
   "execution_count": 158,
   "id": "fc368571-bbdb-4113-a734-ca720fe962af",
   "metadata": {},
   "outputs": [],
   "source": [
    "df['gamma'] = (1 - np.sqrt(((df['r_minimum'] + df['r_avg'])**2 - ((df['r_avg'])**2))/(df['r_minimum'] + df['r_avg'])**2))/(1 - np.sqrt(((df['r_maximum'] + df['r_avg'])**2 - ((df['r_avg'])**2))/(df['r_maximum'] + df['r_avg'])**2))"
   ]
  },
  {
   "cell_type": "markdown",
   "id": "4ce92d5c-2cac-4a73-a815-b9e507d0479b",
   "metadata": {},
   "source": [
    "Now since we for each row, we have found out minimum , maximum and average radii, so now we can drop the columns containing radii of individual elements."
   ]
  },
  {
   "cell_type": "code",
   "execution_count": 159,
   "id": "1bef0b92-4d60-4eab-a2f6-6f93c5868133",
   "metadata": {},
   "outputs": [],
   "source": [
    "df.drop(columns = df.iloc[:,39:64], inplace = True)"
   ]
  },
  {
   "cell_type": "code",
   "execution_count": 160,
   "id": "b67f05c2-fcec-44a9-b563-ddac10ae2b87",
   "metadata": {},
   "outputs": [
    {
     "data": {
      "text/html": [
       "<div>\n",
       "<style scoped>\n",
       "    .dataframe tbody tr th:only-of-type {\n",
       "        vertical-align: middle;\n",
       "    }\n",
       "\n",
       "    .dataframe tbody tr th {\n",
       "        vertical-align: top;\n",
       "    }\n",
       "\n",
       "    .dataframe thead th {\n",
       "        text-align: right;\n",
       "    }\n",
       "</style>\n",
       "<table border=\"1\" class=\"dataframe\">\n",
       "  <thead>\n",
       "    <tr style=\"text-align: right;\">\n",
       "      <th></th>\n",
       "      <th>Al</th>\n",
       "      <th>Co</th>\n",
       "      <th>Cr</th>\n",
       "      <th>Fe</th>\n",
       "      <th>Ni</th>\n",
       "      <th>Cu</th>\n",
       "      <th>Mn</th>\n",
       "      <th>Ti</th>\n",
       "      <th>V</th>\n",
       "      <th>Nb</th>\n",
       "      <th>...</th>\n",
       "      <th>Elect.Diff</th>\n",
       "      <th>VEC</th>\n",
       "      <th>Sythesis_Route</th>\n",
       "      <th>Phases</th>\n",
       "      <th>omega</th>\n",
       "      <th>lambda</th>\n",
       "      <th>r_avg</th>\n",
       "      <th>r_minimum</th>\n",
       "      <th>r_maximum</th>\n",
       "      <th>gamma</th>\n",
       "    </tr>\n",
       "  </thead>\n",
       "  <tbody>\n",
       "    <tr>\n",
       "      <th>0</th>\n",
       "      <td>0.111111</td>\n",
       "      <td>0.000000</td>\n",
       "      <td>0.000000</td>\n",
       "      <td>0.000000</td>\n",
       "      <td>0.000000</td>\n",
       "      <td>0.000000</td>\n",
       "      <td>0.000000</td>\n",
       "      <td>0.222222</td>\n",
       "      <td>0.222222</td>\n",
       "      <td>0.222222</td>\n",
       "      <td>...</td>\n",
       "      <td>0.049616</td>\n",
       "      <td>4.555556</td>\n",
       "      <td>AC</td>\n",
       "      <td>BCC_SS</td>\n",
       "      <td>3469.803740</td>\n",
       "      <td>0.941084</td>\n",
       "      <td>143.222222</td>\n",
       "      <td>134</td>\n",
       "      <td>147</td>\n",
       "      <td>1.103983</td>\n",
       "    </tr>\n",
       "    <tr>\n",
       "      <th>1</th>\n",
       "      <td>0.157895</td>\n",
       "      <td>0.000000</td>\n",
       "      <td>0.000000</td>\n",
       "      <td>0.000000</td>\n",
       "      <td>0.000000</td>\n",
       "      <td>0.000000</td>\n",
       "      <td>0.000000</td>\n",
       "      <td>0.210526</td>\n",
       "      <td>0.210526</td>\n",
       "      <td>0.210526</td>\n",
       "      <td>...</td>\n",
       "      <td>0.232765</td>\n",
       "      <td>4.684211</td>\n",
       "      <td>AC</td>\n",
       "      <td>BCC_SS</td>\n",
       "      <td>2730.618206</td>\n",
       "      <td>0.893300</td>\n",
       "      <td>141.736842</td>\n",
       "      <td>134</td>\n",
       "      <td>147</td>\n",
       "      <td>1.104455</td>\n",
       "    </tr>\n",
       "    <tr>\n",
       "      <th>2</th>\n",
       "      <td>0.058824</td>\n",
       "      <td>0.000000</td>\n",
       "      <td>0.000000</td>\n",
       "      <td>0.000000</td>\n",
       "      <td>0.000000</td>\n",
       "      <td>0.000000</td>\n",
       "      <td>0.000000</td>\n",
       "      <td>0.235294</td>\n",
       "      <td>0.235294</td>\n",
       "      <td>0.235294</td>\n",
       "      <td>...</td>\n",
       "      <td>0.243217</td>\n",
       "      <td>4.882353</td>\n",
       "      <td>AC</td>\n",
       "      <td>BCC_SS</td>\n",
       "      <td>6597.555141</td>\n",
       "      <td>0.792925</td>\n",
       "      <td>141.588235</td>\n",
       "      <td>134</td>\n",
       "      <td>147</td>\n",
       "      <td>1.104502</td>\n",
       "    </tr>\n",
       "    <tr>\n",
       "      <th>3</th>\n",
       "      <td>0.058824</td>\n",
       "      <td>0.000000</td>\n",
       "      <td>0.000000</td>\n",
       "      <td>0.000000</td>\n",
       "      <td>0.000000</td>\n",
       "      <td>0.000000</td>\n",
       "      <td>0.000000</td>\n",
       "      <td>0.235294</td>\n",
       "      <td>0.235294</td>\n",
       "      <td>0.235294</td>\n",
       "      <td>...</td>\n",
       "      <td>0.050176</td>\n",
       "      <td>4.647059</td>\n",
       "      <td>AC</td>\n",
       "      <td>BCC_SS</td>\n",
       "      <td>6102.098558</td>\n",
       "      <td>0.865245</td>\n",
       "      <td>143.235294</td>\n",
       "      <td>134</td>\n",
       "      <td>147</td>\n",
       "      <td>1.103979</td>\n",
       "    </tr>\n",
       "    <tr>\n",
       "      <th>4</th>\n",
       "      <td>0.047619</td>\n",
       "      <td>0.000000</td>\n",
       "      <td>0.000000</td>\n",
       "      <td>0.000000</td>\n",
       "      <td>0.000000</td>\n",
       "      <td>0.000000</td>\n",
       "      <td>0.000000</td>\n",
       "      <td>0.238095</td>\n",
       "      <td>0.238095</td>\n",
       "      <td>0.000000</td>\n",
       "      <td>...</td>\n",
       "      <td>0.244333</td>\n",
       "      <td>4.904762</td>\n",
       "      <td>AC</td>\n",
       "      <td>BCC_SS</td>\n",
       "      <td>7937.803591</td>\n",
       "      <td>0.778630</td>\n",
       "      <td>141.571429</td>\n",
       "      <td>134</td>\n",
       "      <td>147</td>\n",
       "      <td>1.104508</td>\n",
       "    </tr>\n",
       "    <tr>\n",
       "      <th>...</th>\n",
       "      <td>...</td>\n",
       "      <td>...</td>\n",
       "      <td>...</td>\n",
       "      <td>...</td>\n",
       "      <td>...</td>\n",
       "      <td>...</td>\n",
       "      <td>...</td>\n",
       "      <td>...</td>\n",
       "      <td>...</td>\n",
       "      <td>...</td>\n",
       "      <td>...</td>\n",
       "      <td>...</td>\n",
       "      <td>...</td>\n",
       "      <td>...</td>\n",
       "      <td>...</td>\n",
       "      <td>...</td>\n",
       "      <td>...</td>\n",
       "      <td>...</td>\n",
       "      <td>...</td>\n",
       "      <td>...</td>\n",
       "      <td>...</td>\n",
       "    </tr>\n",
       "    <tr>\n",
       "      <th>444</th>\n",
       "      <td>0.142857</td>\n",
       "      <td>0.142857</td>\n",
       "      <td>0.142857</td>\n",
       "      <td>0.142857</td>\n",
       "      <td>0.000000</td>\n",
       "      <td>0.142857</td>\n",
       "      <td>0.142857</td>\n",
       "      <td>0.142857</td>\n",
       "      <td>0.000000</td>\n",
       "      <td>0.000000</td>\n",
       "      <td>...</td>\n",
       "      <td>0.146969</td>\n",
       "      <td>6.666667</td>\n",
       "      <td>AC</td>\n",
       "      <td>Im</td>\n",
       "      <td>1465.695546</td>\n",
       "      <td>0.367822</td>\n",
       "      <td>132.000000</td>\n",
       "      <td>125</td>\n",
       "      <td>147</td>\n",
       "      <td>1.193110</td>\n",
       "    </tr>\n",
       "    <tr>\n",
       "      <th>445</th>\n",
       "      <td>0.142857</td>\n",
       "      <td>0.142857</td>\n",
       "      <td>0.142857</td>\n",
       "      <td>0.142857</td>\n",
       "      <td>0.142857</td>\n",
       "      <td>0.142857</td>\n",
       "      <td>0.142857</td>\n",
       "      <td>0.000000</td>\n",
       "      <td>0.000000</td>\n",
       "      <td>0.000000</td>\n",
       "      <td>...</td>\n",
       "      <td>0.137042</td>\n",
       "      <td>7.333333</td>\n",
       "      <td>AC</td>\n",
       "      <td>FCC_PLUS_BCC</td>\n",
       "      <td>4975.267462</td>\n",
       "      <td>0.523002</td>\n",
       "      <td>128.714286</td>\n",
       "      <td>124</td>\n",
       "      <td>143</td>\n",
       "      <td>1.168513</td>\n",
       "    </tr>\n",
       "    <tr>\n",
       "      <th>446</th>\n",
       "      <td>0.584708</td>\n",
       "      <td>0.000000</td>\n",
       "      <td>0.000000</td>\n",
       "      <td>0.000000</td>\n",
       "      <td>0.000000</td>\n",
       "      <td>0.045477</td>\n",
       "      <td>0.000000</td>\n",
       "      <td>0.000000</td>\n",
       "      <td>0.000000</td>\n",
       "      <td>0.000000</td>\n",
       "      <td>...</td>\n",
       "      <td>0.160000</td>\n",
       "      <td>3.460000</td>\n",
       "      <td>AC</td>\n",
       "      <td>Im</td>\n",
       "      <td>2001.176118</td>\n",
       "      <td>0.217663</td>\n",
       "      <td>146.995502</td>\n",
       "      <td>116</td>\n",
       "      <td>160</td>\n",
       "      <td>1.398872</td>\n",
       "    </tr>\n",
       "    <tr>\n",
       "      <th>447</th>\n",
       "      <td>0.629685</td>\n",
       "      <td>0.000000</td>\n",
       "      <td>0.000000</td>\n",
       "      <td>0.000000</td>\n",
       "      <td>0.000000</td>\n",
       "      <td>0.045477</td>\n",
       "      <td>0.000000</td>\n",
       "      <td>0.000000</td>\n",
       "      <td>0.000000</td>\n",
       "      <td>0.000000</td>\n",
       "      <td>...</td>\n",
       "      <td>0.160000</td>\n",
       "      <td>3.510000</td>\n",
       "      <td>AC</td>\n",
       "      <td>Im</td>\n",
       "      <td>2070.503490</td>\n",
       "      <td>0.226904</td>\n",
       "      <td>146.230884</td>\n",
       "      <td>116</td>\n",
       "      <td>160</td>\n",
       "      <td>1.399907</td>\n",
       "    </tr>\n",
       "    <tr>\n",
       "      <th>448</th>\n",
       "      <td>0.666667</td>\n",
       "      <td>0.000000</td>\n",
       "      <td>0.000000</td>\n",
       "      <td>0.000000</td>\n",
       "      <td>0.000000</td>\n",
       "      <td>0.045477</td>\n",
       "      <td>0.000000</td>\n",
       "      <td>0.000000</td>\n",
       "      <td>0.000000</td>\n",
       "      <td>0.000000</td>\n",
       "      <td>...</td>\n",
       "      <td>0.150000</td>\n",
       "      <td>3.550000</td>\n",
       "      <td>AC</td>\n",
       "      <td>Im</td>\n",
       "      <td>2165.824770</td>\n",
       "      <td>0.239511</td>\n",
       "      <td>145.602199</td>\n",
       "      <td>116</td>\n",
       "      <td>160</td>\n",
       "      <td>1.400763</td>\n",
       "    </tr>\n",
       "  </tbody>\n",
       "</table>\n",
       "<p>449 rows × 43 columns</p>\n",
       "</div>"
      ],
      "text/plain": [
       "           Al        Co        Cr        Fe        Ni        Cu        Mn  \\\n",
       "0    0.111111  0.000000  0.000000  0.000000  0.000000  0.000000  0.000000   \n",
       "1    0.157895  0.000000  0.000000  0.000000  0.000000  0.000000  0.000000   \n",
       "2    0.058824  0.000000  0.000000  0.000000  0.000000  0.000000  0.000000   \n",
       "3    0.058824  0.000000  0.000000  0.000000  0.000000  0.000000  0.000000   \n",
       "4    0.047619  0.000000  0.000000  0.000000  0.000000  0.000000  0.000000   \n",
       "..        ...       ...       ...       ...       ...       ...       ...   \n",
       "444  0.142857  0.142857  0.142857  0.142857  0.000000  0.142857  0.142857   \n",
       "445  0.142857  0.142857  0.142857  0.142857  0.142857  0.142857  0.142857   \n",
       "446  0.584708  0.000000  0.000000  0.000000  0.000000  0.045477  0.000000   \n",
       "447  0.629685  0.000000  0.000000  0.000000  0.000000  0.045477  0.000000   \n",
       "448  0.666667  0.000000  0.000000  0.000000  0.000000  0.045477  0.000000   \n",
       "\n",
       "           Ti         V        Nb  ...  Elect.Diff       VEC  Sythesis_Route  \\\n",
       "0    0.222222  0.222222  0.222222  ...    0.049616  4.555556              AC   \n",
       "1    0.210526  0.210526  0.210526  ...    0.232765  4.684211              AC   \n",
       "2    0.235294  0.235294  0.235294  ...    0.243217  4.882353              AC   \n",
       "3    0.235294  0.235294  0.235294  ...    0.050176  4.647059              AC   \n",
       "4    0.238095  0.238095  0.000000  ...    0.244333  4.904762              AC   \n",
       "..        ...       ...       ...  ...         ...       ...             ...   \n",
       "444  0.142857  0.000000  0.000000  ...    0.146969  6.666667              AC   \n",
       "445  0.000000  0.000000  0.000000  ...    0.137042  7.333333              AC   \n",
       "446  0.000000  0.000000  0.000000  ...    0.160000  3.460000              AC   \n",
       "447  0.000000  0.000000  0.000000  ...    0.160000  3.510000              AC   \n",
       "448  0.000000  0.000000  0.000000  ...    0.150000  3.550000              AC   \n",
       "\n",
       "           Phases        omega    lambda       r_avg  r_minimum  r_maximum  \\\n",
       "0          BCC_SS  3469.803740  0.941084  143.222222        134        147   \n",
       "1          BCC_SS  2730.618206  0.893300  141.736842        134        147   \n",
       "2          BCC_SS  6597.555141  0.792925  141.588235        134        147   \n",
       "3          BCC_SS  6102.098558  0.865245  143.235294        134        147   \n",
       "4          BCC_SS  7937.803591  0.778630  141.571429        134        147   \n",
       "..            ...          ...       ...         ...        ...        ...   \n",
       "444            Im  1465.695546  0.367822  132.000000        125        147   \n",
       "445  FCC_PLUS_BCC  4975.267462  0.523002  128.714286        124        143   \n",
       "446            Im  2001.176118  0.217663  146.995502        116        160   \n",
       "447            Im  2070.503490  0.226904  146.230884        116        160   \n",
       "448            Im  2165.824770  0.239511  145.602199        116        160   \n",
       "\n",
       "        gamma  \n",
       "0    1.103983  \n",
       "1    1.104455  \n",
       "2    1.104502  \n",
       "3    1.103979  \n",
       "4    1.104508  \n",
       "..        ...  \n",
       "444  1.193110  \n",
       "445  1.168513  \n",
       "446  1.398872  \n",
       "447  1.399907  \n",
       "448  1.400763  \n",
       "\n",
       "[449 rows x 43 columns]"
      ]
     },
     "execution_count": 160,
     "metadata": {},
     "output_type": "execute_result"
    }
   ],
   "source": [
    "df"
   ]
  },
  {
   "cell_type": "markdown",
   "id": "dccbe161-3976-48a3-ac9f-840711aedadc",
   "metadata": {},
   "source": [
    "**FEATURE ENCODING** : Converted categorical variables into a numerical format\n",
    "suitable for modeling."
   ]
  },
  {
   "cell_type": "markdown",
   "id": "d8bacd89-4285-4167-af7a-83dffd4215ca",
   "metadata": {},
   "source": [
    "Since we are having two categorical columns namely 'Phases' and 'Sythesis_Route' so we will encode them."
   ]
  },
  {
   "cell_type": "code",
   "execution_count": 161,
   "id": "90ca211d-026b-4f71-931c-9c82cfb4af5d",
   "metadata": {},
   "outputs": [
    {
     "data": {
      "text/plain": [
       "Phases\n",
       "BCC_SS          179\n",
       "Im              164\n",
       "FCC_SS           71\n",
       "FCC_PLUS_BCC     35\n",
       "Name: count, dtype: int64"
      ]
     },
     "execution_count": 161,
     "metadata": {},
     "output_type": "execute_result"
    }
   ],
   "source": [
    "df['Phases'].value_counts()"
   ]
  },
  {
   "cell_type": "code",
   "execution_count": 162,
   "id": "aa58af67-f5b0-4380-a591-c6b8a6b9e73f",
   "metadata": {},
   "outputs": [
    {
     "data": {
      "text/plain": [
       "Sythesis_Route\n",
       "AC    428\n",
       "PM     21\n",
       "Name: count, dtype: int64"
      ]
     },
     "execution_count": 162,
     "metadata": {},
     "output_type": "execute_result"
    }
   ],
   "source": [
    "df['Sythesis_Route'].value_counts()"
   ]
  },
  {
   "cell_type": "code",
   "execution_count": 163,
   "id": "1d5b5acf-fac2-4310-aef2-3753b3a49af6",
   "metadata": {},
   "outputs": [],
   "source": [
    "df['Phases'].replace(['BCC_SS','FCC_SS','FCC_PLUS_BCC','Im'],[0,1,2,3],inplace = True)\n",
    "df['Sythesis_Route'].replace(['AC','PM'],[0,1], inplace = True)"
   ]
  },
  {
   "cell_type": "code",
   "execution_count": 164,
   "id": "6433c34e-19a0-4798-9f02-d0a37a84ed64",
   "metadata": {},
   "outputs": [
    {
     "data": {
      "text/plain": [
       "Phases\n",
       "0    179\n",
       "3    164\n",
       "1     71\n",
       "2     35\n",
       "Name: count, dtype: int64"
      ]
     },
     "execution_count": 164,
     "metadata": {},
     "output_type": "execute_result"
    }
   ],
   "source": [
    "df['Phases'].value_counts()"
   ]
  },
  {
   "cell_type": "code",
   "execution_count": 165,
   "id": "1fe7835e-f1d8-4d28-9fee-e030a5898a4f",
   "metadata": {},
   "outputs": [
    {
     "data": {
      "text/plain": [
       "Sythesis_Route\n",
       "0    428\n",
       "1     21\n",
       "Name: count, dtype: int64"
      ]
     },
     "execution_count": 165,
     "metadata": {},
     "output_type": "execute_result"
    }
   ],
   "source": [
    "df['Sythesis_Route'].value_counts()"
   ]
  },
  {
   "cell_type": "code",
   "execution_count": 166,
   "id": "851f0c2e-b0e5-4992-8632-5ad584c1e497",
   "metadata": {},
   "outputs": [
    {
     "data": {
      "text/html": [
       "<div>\n",
       "<style scoped>\n",
       "    .dataframe tbody tr th:only-of-type {\n",
       "        vertical-align: middle;\n",
       "    }\n",
       "\n",
       "    .dataframe tbody tr th {\n",
       "        vertical-align: top;\n",
       "    }\n",
       "\n",
       "    .dataframe thead th {\n",
       "        text-align: right;\n",
       "    }\n",
       "</style>\n",
       "<table border=\"1\" class=\"dataframe\">\n",
       "  <thead>\n",
       "    <tr style=\"text-align: right;\">\n",
       "      <th></th>\n",
       "      <th>Al</th>\n",
       "      <th>Co</th>\n",
       "      <th>Cr</th>\n",
       "      <th>Fe</th>\n",
       "      <th>Ni</th>\n",
       "      <th>Cu</th>\n",
       "      <th>Mn</th>\n",
       "      <th>Ti</th>\n",
       "      <th>V</th>\n",
       "      <th>Nb</th>\n",
       "      <th>...</th>\n",
       "      <th>Elect.Diff</th>\n",
       "      <th>VEC</th>\n",
       "      <th>Sythesis_Route</th>\n",
       "      <th>Phases</th>\n",
       "      <th>omega</th>\n",
       "      <th>lambda</th>\n",
       "      <th>r_avg</th>\n",
       "      <th>r_minimum</th>\n",
       "      <th>r_maximum</th>\n",
       "      <th>gamma</th>\n",
       "    </tr>\n",
       "  </thead>\n",
       "  <tbody>\n",
       "    <tr>\n",
       "      <th>0</th>\n",
       "      <td>0.111111</td>\n",
       "      <td>0.000000</td>\n",
       "      <td>0.000000</td>\n",
       "      <td>0.000000</td>\n",
       "      <td>0.000000</td>\n",
       "      <td>0.000000</td>\n",
       "      <td>0.000000</td>\n",
       "      <td>0.222222</td>\n",
       "      <td>0.222222</td>\n",
       "      <td>0.222222</td>\n",
       "      <td>...</td>\n",
       "      <td>0.049616</td>\n",
       "      <td>4.555556</td>\n",
       "      <td>0</td>\n",
       "      <td>0</td>\n",
       "      <td>3469.803740</td>\n",
       "      <td>0.941084</td>\n",
       "      <td>143.222222</td>\n",
       "      <td>134</td>\n",
       "      <td>147</td>\n",
       "      <td>1.103983</td>\n",
       "    </tr>\n",
       "    <tr>\n",
       "      <th>1</th>\n",
       "      <td>0.157895</td>\n",
       "      <td>0.000000</td>\n",
       "      <td>0.000000</td>\n",
       "      <td>0.000000</td>\n",
       "      <td>0.000000</td>\n",
       "      <td>0.000000</td>\n",
       "      <td>0.000000</td>\n",
       "      <td>0.210526</td>\n",
       "      <td>0.210526</td>\n",
       "      <td>0.210526</td>\n",
       "      <td>...</td>\n",
       "      <td>0.232765</td>\n",
       "      <td>4.684211</td>\n",
       "      <td>0</td>\n",
       "      <td>0</td>\n",
       "      <td>2730.618206</td>\n",
       "      <td>0.893300</td>\n",
       "      <td>141.736842</td>\n",
       "      <td>134</td>\n",
       "      <td>147</td>\n",
       "      <td>1.104455</td>\n",
       "    </tr>\n",
       "    <tr>\n",
       "      <th>2</th>\n",
       "      <td>0.058824</td>\n",
       "      <td>0.000000</td>\n",
       "      <td>0.000000</td>\n",
       "      <td>0.000000</td>\n",
       "      <td>0.000000</td>\n",
       "      <td>0.000000</td>\n",
       "      <td>0.000000</td>\n",
       "      <td>0.235294</td>\n",
       "      <td>0.235294</td>\n",
       "      <td>0.235294</td>\n",
       "      <td>...</td>\n",
       "      <td>0.243217</td>\n",
       "      <td>4.882353</td>\n",
       "      <td>0</td>\n",
       "      <td>0</td>\n",
       "      <td>6597.555141</td>\n",
       "      <td>0.792925</td>\n",
       "      <td>141.588235</td>\n",
       "      <td>134</td>\n",
       "      <td>147</td>\n",
       "      <td>1.104502</td>\n",
       "    </tr>\n",
       "    <tr>\n",
       "      <th>3</th>\n",
       "      <td>0.058824</td>\n",
       "      <td>0.000000</td>\n",
       "      <td>0.000000</td>\n",
       "      <td>0.000000</td>\n",
       "      <td>0.000000</td>\n",
       "      <td>0.000000</td>\n",
       "      <td>0.000000</td>\n",
       "      <td>0.235294</td>\n",
       "      <td>0.235294</td>\n",
       "      <td>0.235294</td>\n",
       "      <td>...</td>\n",
       "      <td>0.050176</td>\n",
       "      <td>4.647059</td>\n",
       "      <td>0</td>\n",
       "      <td>0</td>\n",
       "      <td>6102.098558</td>\n",
       "      <td>0.865245</td>\n",
       "      <td>143.235294</td>\n",
       "      <td>134</td>\n",
       "      <td>147</td>\n",
       "      <td>1.103979</td>\n",
       "    </tr>\n",
       "    <tr>\n",
       "      <th>4</th>\n",
       "      <td>0.047619</td>\n",
       "      <td>0.000000</td>\n",
       "      <td>0.000000</td>\n",
       "      <td>0.000000</td>\n",
       "      <td>0.000000</td>\n",
       "      <td>0.000000</td>\n",
       "      <td>0.000000</td>\n",
       "      <td>0.238095</td>\n",
       "      <td>0.238095</td>\n",
       "      <td>0.000000</td>\n",
       "      <td>...</td>\n",
       "      <td>0.244333</td>\n",
       "      <td>4.904762</td>\n",
       "      <td>0</td>\n",
       "      <td>0</td>\n",
       "      <td>7937.803591</td>\n",
       "      <td>0.778630</td>\n",
       "      <td>141.571429</td>\n",
       "      <td>134</td>\n",
       "      <td>147</td>\n",
       "      <td>1.104508</td>\n",
       "    </tr>\n",
       "    <tr>\n",
       "      <th>...</th>\n",
       "      <td>...</td>\n",
       "      <td>...</td>\n",
       "      <td>...</td>\n",
       "      <td>...</td>\n",
       "      <td>...</td>\n",
       "      <td>...</td>\n",
       "      <td>...</td>\n",
       "      <td>...</td>\n",
       "      <td>...</td>\n",
       "      <td>...</td>\n",
       "      <td>...</td>\n",
       "      <td>...</td>\n",
       "      <td>...</td>\n",
       "      <td>...</td>\n",
       "      <td>...</td>\n",
       "      <td>...</td>\n",
       "      <td>...</td>\n",
       "      <td>...</td>\n",
       "      <td>...</td>\n",
       "      <td>...</td>\n",
       "      <td>...</td>\n",
       "    </tr>\n",
       "    <tr>\n",
       "      <th>444</th>\n",
       "      <td>0.142857</td>\n",
       "      <td>0.142857</td>\n",
       "      <td>0.142857</td>\n",
       "      <td>0.142857</td>\n",
       "      <td>0.000000</td>\n",
       "      <td>0.142857</td>\n",
       "      <td>0.142857</td>\n",
       "      <td>0.142857</td>\n",
       "      <td>0.000000</td>\n",
       "      <td>0.000000</td>\n",
       "      <td>...</td>\n",
       "      <td>0.146969</td>\n",
       "      <td>6.666667</td>\n",
       "      <td>0</td>\n",
       "      <td>3</td>\n",
       "      <td>1465.695546</td>\n",
       "      <td>0.367822</td>\n",
       "      <td>132.000000</td>\n",
       "      <td>125</td>\n",
       "      <td>147</td>\n",
       "      <td>1.193110</td>\n",
       "    </tr>\n",
       "    <tr>\n",
       "      <th>445</th>\n",
       "      <td>0.142857</td>\n",
       "      <td>0.142857</td>\n",
       "      <td>0.142857</td>\n",
       "      <td>0.142857</td>\n",
       "      <td>0.142857</td>\n",
       "      <td>0.142857</td>\n",
       "      <td>0.142857</td>\n",
       "      <td>0.000000</td>\n",
       "      <td>0.000000</td>\n",
       "      <td>0.000000</td>\n",
       "      <td>...</td>\n",
       "      <td>0.137042</td>\n",
       "      <td>7.333333</td>\n",
       "      <td>0</td>\n",
       "      <td>2</td>\n",
       "      <td>4975.267462</td>\n",
       "      <td>0.523002</td>\n",
       "      <td>128.714286</td>\n",
       "      <td>124</td>\n",
       "      <td>143</td>\n",
       "      <td>1.168513</td>\n",
       "    </tr>\n",
       "    <tr>\n",
       "      <th>446</th>\n",
       "      <td>0.584708</td>\n",
       "      <td>0.000000</td>\n",
       "      <td>0.000000</td>\n",
       "      <td>0.000000</td>\n",
       "      <td>0.000000</td>\n",
       "      <td>0.045477</td>\n",
       "      <td>0.000000</td>\n",
       "      <td>0.000000</td>\n",
       "      <td>0.000000</td>\n",
       "      <td>0.000000</td>\n",
       "      <td>...</td>\n",
       "      <td>0.160000</td>\n",
       "      <td>3.460000</td>\n",
       "      <td>0</td>\n",
       "      <td>3</td>\n",
       "      <td>2001.176118</td>\n",
       "      <td>0.217663</td>\n",
       "      <td>146.995502</td>\n",
       "      <td>116</td>\n",
       "      <td>160</td>\n",
       "      <td>1.398872</td>\n",
       "    </tr>\n",
       "    <tr>\n",
       "      <th>447</th>\n",
       "      <td>0.629685</td>\n",
       "      <td>0.000000</td>\n",
       "      <td>0.000000</td>\n",
       "      <td>0.000000</td>\n",
       "      <td>0.000000</td>\n",
       "      <td>0.045477</td>\n",
       "      <td>0.000000</td>\n",
       "      <td>0.000000</td>\n",
       "      <td>0.000000</td>\n",
       "      <td>0.000000</td>\n",
       "      <td>...</td>\n",
       "      <td>0.160000</td>\n",
       "      <td>3.510000</td>\n",
       "      <td>0</td>\n",
       "      <td>3</td>\n",
       "      <td>2070.503490</td>\n",
       "      <td>0.226904</td>\n",
       "      <td>146.230884</td>\n",
       "      <td>116</td>\n",
       "      <td>160</td>\n",
       "      <td>1.399907</td>\n",
       "    </tr>\n",
       "    <tr>\n",
       "      <th>448</th>\n",
       "      <td>0.666667</td>\n",
       "      <td>0.000000</td>\n",
       "      <td>0.000000</td>\n",
       "      <td>0.000000</td>\n",
       "      <td>0.000000</td>\n",
       "      <td>0.045477</td>\n",
       "      <td>0.000000</td>\n",
       "      <td>0.000000</td>\n",
       "      <td>0.000000</td>\n",
       "      <td>0.000000</td>\n",
       "      <td>...</td>\n",
       "      <td>0.150000</td>\n",
       "      <td>3.550000</td>\n",
       "      <td>0</td>\n",
       "      <td>3</td>\n",
       "      <td>2165.824770</td>\n",
       "      <td>0.239511</td>\n",
       "      <td>145.602199</td>\n",
       "      <td>116</td>\n",
       "      <td>160</td>\n",
       "      <td>1.400763</td>\n",
       "    </tr>\n",
       "  </tbody>\n",
       "</table>\n",
       "<p>449 rows × 43 columns</p>\n",
       "</div>"
      ],
      "text/plain": [
       "           Al        Co        Cr        Fe        Ni        Cu        Mn  \\\n",
       "0    0.111111  0.000000  0.000000  0.000000  0.000000  0.000000  0.000000   \n",
       "1    0.157895  0.000000  0.000000  0.000000  0.000000  0.000000  0.000000   \n",
       "2    0.058824  0.000000  0.000000  0.000000  0.000000  0.000000  0.000000   \n",
       "3    0.058824  0.000000  0.000000  0.000000  0.000000  0.000000  0.000000   \n",
       "4    0.047619  0.000000  0.000000  0.000000  0.000000  0.000000  0.000000   \n",
       "..        ...       ...       ...       ...       ...       ...       ...   \n",
       "444  0.142857  0.142857  0.142857  0.142857  0.000000  0.142857  0.142857   \n",
       "445  0.142857  0.142857  0.142857  0.142857  0.142857  0.142857  0.142857   \n",
       "446  0.584708  0.000000  0.000000  0.000000  0.000000  0.045477  0.000000   \n",
       "447  0.629685  0.000000  0.000000  0.000000  0.000000  0.045477  0.000000   \n",
       "448  0.666667  0.000000  0.000000  0.000000  0.000000  0.045477  0.000000   \n",
       "\n",
       "           Ti         V        Nb  ...  Elect.Diff       VEC  Sythesis_Route  \\\n",
       "0    0.222222  0.222222  0.222222  ...    0.049616  4.555556               0   \n",
       "1    0.210526  0.210526  0.210526  ...    0.232765  4.684211               0   \n",
       "2    0.235294  0.235294  0.235294  ...    0.243217  4.882353               0   \n",
       "3    0.235294  0.235294  0.235294  ...    0.050176  4.647059               0   \n",
       "4    0.238095  0.238095  0.000000  ...    0.244333  4.904762               0   \n",
       "..        ...       ...       ...  ...         ...       ...             ...   \n",
       "444  0.142857  0.000000  0.000000  ...    0.146969  6.666667               0   \n",
       "445  0.000000  0.000000  0.000000  ...    0.137042  7.333333               0   \n",
       "446  0.000000  0.000000  0.000000  ...    0.160000  3.460000               0   \n",
       "447  0.000000  0.000000  0.000000  ...    0.160000  3.510000               0   \n",
       "448  0.000000  0.000000  0.000000  ...    0.150000  3.550000               0   \n",
       "\n",
       "     Phases        omega    lambda       r_avg  r_minimum  r_maximum     gamma  \n",
       "0         0  3469.803740  0.941084  143.222222        134        147  1.103983  \n",
       "1         0  2730.618206  0.893300  141.736842        134        147  1.104455  \n",
       "2         0  6597.555141  0.792925  141.588235        134        147  1.104502  \n",
       "3         0  6102.098558  0.865245  143.235294        134        147  1.103979  \n",
       "4         0  7937.803591  0.778630  141.571429        134        147  1.104508  \n",
       "..      ...          ...       ...         ...        ...        ...       ...  \n",
       "444       3  1465.695546  0.367822  132.000000        125        147  1.193110  \n",
       "445       2  4975.267462  0.523002  128.714286        124        143  1.168513  \n",
       "446       3  2001.176118  0.217663  146.995502        116        160  1.398872  \n",
       "447       3  2070.503490  0.226904  146.230884        116        160  1.399907  \n",
       "448       3  2165.824770  0.239511  145.602199        116        160  1.400763  \n",
       "\n",
       "[449 rows x 43 columns]"
      ]
     },
     "execution_count": 166,
     "metadata": {},
     "output_type": "execute_result"
    }
   ],
   "source": [
    "df"
   ]
  },
  {
   "cell_type": "markdown",
   "id": "166e7311-4443-4de3-9a8e-4fbd5cb08df4",
   "metadata": {},
   "source": [
    "Now since all the columns are numerical, we can now check the correlation of each column with our target column 'Phases' and can drop those columns which shows very less correlation."
   ]
  },
  {
   "cell_type": "code",
   "execution_count": 167,
   "id": "75366218-5105-4b1c-abd9-b5148e4d287f",
   "metadata": {},
   "outputs": [
    {
     "data": {
      "text/plain": [
       "Al                0.322865\n",
       "Co                0.249734\n",
       "Cr                0.295399\n",
       "Fe                0.379428\n",
       "Ni                0.347063\n",
       "Cu                0.167174\n",
       "Mn                0.160923\n",
       "Ti               -0.460451\n",
       "V                -0.225813\n",
       "Nb               -0.457486\n",
       "Mo               -0.320042\n",
       "Zr               -0.419488\n",
       "Hf               -0.303857\n",
       "Ta               -0.387359\n",
       "W                -0.074465\n",
       "C                 0.114679\n",
       "Mg                0.153235\n",
       "Zn                0.162385\n",
       "Si                0.187380\n",
       "Re                0.056476\n",
       "N                -0.034414\n",
       "Sc                     NaN\n",
       "Li                0.079958\n",
       "Sn                0.068523\n",
       "Be                     NaN\n",
       "Num_of_Elem       0.226209\n",
       "Density_calc     -0.355181\n",
       "dHmix            -0.331343\n",
       "dSmix            -0.063787\n",
       "dGmix            -0.548706\n",
       "Tm               -0.546515\n",
       "n.Para           -0.173727\n",
       "Atom.Size.Diff    0.125072\n",
       "Elect.Diff       -0.173887\n",
       "VEC               0.353115\n",
       "Sythesis_Route    0.074487\n",
       "Phases            1.000000\n",
       "omega            -0.174958\n",
       "lambda            0.000757\n",
       "r_avg            -0.463692\n",
       "r_minimum        -0.391070\n",
       "r_maximum        -0.240141\n",
       "gamma             0.245065\n",
       "Name: Phases, dtype: float64"
      ]
     },
     "execution_count": 167,
     "metadata": {},
     "output_type": "execute_result"
    }
   ],
   "source": [
    "df.corr()['Phases']"
   ]
  },
  {
   "cell_type": "code",
   "execution_count": 168,
   "id": "119d6ab6-53ca-429f-928e-2f4def63cdab",
   "metadata": {},
   "outputs": [],
   "source": [
    "df.drop(columns = ['W','Re','N','Sc','Be','Sn','Li'], inplace= True) \n",
    "# We cannot drop columns namely 'dSmix', 'lambda' and 'Sythesis_Route' beacuse they are important for our analysis as they are major factors for Phase prediction."
   ]
  },
  {
   "cell_type": "code",
   "execution_count": 169,
   "id": "6c0d3045-8da3-4378-aca7-0e50294ef113",
   "metadata": {},
   "outputs": [
    {
     "data": {
      "text/html": [
       "<div>\n",
       "<style scoped>\n",
       "    .dataframe tbody tr th:only-of-type {\n",
       "        vertical-align: middle;\n",
       "    }\n",
       "\n",
       "    .dataframe tbody tr th {\n",
       "        vertical-align: top;\n",
       "    }\n",
       "\n",
       "    .dataframe thead th {\n",
       "        text-align: right;\n",
       "    }\n",
       "</style>\n",
       "<table border=\"1\" class=\"dataframe\">\n",
       "  <thead>\n",
       "    <tr style=\"text-align: right;\">\n",
       "      <th></th>\n",
       "      <th>Al</th>\n",
       "      <th>Co</th>\n",
       "      <th>Cr</th>\n",
       "      <th>Fe</th>\n",
       "      <th>Ni</th>\n",
       "      <th>Cu</th>\n",
       "      <th>Mn</th>\n",
       "      <th>Ti</th>\n",
       "      <th>V</th>\n",
       "      <th>Nb</th>\n",
       "      <th>...</th>\n",
       "      <th>Elect.Diff</th>\n",
       "      <th>VEC</th>\n",
       "      <th>Sythesis_Route</th>\n",
       "      <th>Phases</th>\n",
       "      <th>omega</th>\n",
       "      <th>lambda</th>\n",
       "      <th>r_avg</th>\n",
       "      <th>r_minimum</th>\n",
       "      <th>r_maximum</th>\n",
       "      <th>gamma</th>\n",
       "    </tr>\n",
       "  </thead>\n",
       "  <tbody>\n",
       "    <tr>\n",
       "      <th>0</th>\n",
       "      <td>0.111111</td>\n",
       "      <td>0.000000</td>\n",
       "      <td>0.000000</td>\n",
       "      <td>0.000000</td>\n",
       "      <td>0.000000</td>\n",
       "      <td>0.000000</td>\n",
       "      <td>0.000000</td>\n",
       "      <td>0.222222</td>\n",
       "      <td>0.222222</td>\n",
       "      <td>0.222222</td>\n",
       "      <td>...</td>\n",
       "      <td>0.049616</td>\n",
       "      <td>4.555556</td>\n",
       "      <td>0</td>\n",
       "      <td>0</td>\n",
       "      <td>3469.803740</td>\n",
       "      <td>0.941084</td>\n",
       "      <td>143.222222</td>\n",
       "      <td>134</td>\n",
       "      <td>147</td>\n",
       "      <td>1.103983</td>\n",
       "    </tr>\n",
       "    <tr>\n",
       "      <th>1</th>\n",
       "      <td>0.157895</td>\n",
       "      <td>0.000000</td>\n",
       "      <td>0.000000</td>\n",
       "      <td>0.000000</td>\n",
       "      <td>0.000000</td>\n",
       "      <td>0.000000</td>\n",
       "      <td>0.000000</td>\n",
       "      <td>0.210526</td>\n",
       "      <td>0.210526</td>\n",
       "      <td>0.210526</td>\n",
       "      <td>...</td>\n",
       "      <td>0.232765</td>\n",
       "      <td>4.684211</td>\n",
       "      <td>0</td>\n",
       "      <td>0</td>\n",
       "      <td>2730.618206</td>\n",
       "      <td>0.893300</td>\n",
       "      <td>141.736842</td>\n",
       "      <td>134</td>\n",
       "      <td>147</td>\n",
       "      <td>1.104455</td>\n",
       "    </tr>\n",
       "    <tr>\n",
       "      <th>2</th>\n",
       "      <td>0.058824</td>\n",
       "      <td>0.000000</td>\n",
       "      <td>0.000000</td>\n",
       "      <td>0.000000</td>\n",
       "      <td>0.000000</td>\n",
       "      <td>0.000000</td>\n",
       "      <td>0.000000</td>\n",
       "      <td>0.235294</td>\n",
       "      <td>0.235294</td>\n",
       "      <td>0.235294</td>\n",
       "      <td>...</td>\n",
       "      <td>0.243217</td>\n",
       "      <td>4.882353</td>\n",
       "      <td>0</td>\n",
       "      <td>0</td>\n",
       "      <td>6597.555141</td>\n",
       "      <td>0.792925</td>\n",
       "      <td>141.588235</td>\n",
       "      <td>134</td>\n",
       "      <td>147</td>\n",
       "      <td>1.104502</td>\n",
       "    </tr>\n",
       "    <tr>\n",
       "      <th>3</th>\n",
       "      <td>0.058824</td>\n",
       "      <td>0.000000</td>\n",
       "      <td>0.000000</td>\n",
       "      <td>0.000000</td>\n",
       "      <td>0.000000</td>\n",
       "      <td>0.000000</td>\n",
       "      <td>0.000000</td>\n",
       "      <td>0.235294</td>\n",
       "      <td>0.235294</td>\n",
       "      <td>0.235294</td>\n",
       "      <td>...</td>\n",
       "      <td>0.050176</td>\n",
       "      <td>4.647059</td>\n",
       "      <td>0</td>\n",
       "      <td>0</td>\n",
       "      <td>6102.098558</td>\n",
       "      <td>0.865245</td>\n",
       "      <td>143.235294</td>\n",
       "      <td>134</td>\n",
       "      <td>147</td>\n",
       "      <td>1.103979</td>\n",
       "    </tr>\n",
       "    <tr>\n",
       "      <th>4</th>\n",
       "      <td>0.047619</td>\n",
       "      <td>0.000000</td>\n",
       "      <td>0.000000</td>\n",
       "      <td>0.000000</td>\n",
       "      <td>0.000000</td>\n",
       "      <td>0.000000</td>\n",
       "      <td>0.000000</td>\n",
       "      <td>0.238095</td>\n",
       "      <td>0.238095</td>\n",
       "      <td>0.000000</td>\n",
       "      <td>...</td>\n",
       "      <td>0.244333</td>\n",
       "      <td>4.904762</td>\n",
       "      <td>0</td>\n",
       "      <td>0</td>\n",
       "      <td>7937.803591</td>\n",
       "      <td>0.778630</td>\n",
       "      <td>141.571429</td>\n",
       "      <td>134</td>\n",
       "      <td>147</td>\n",
       "      <td>1.104508</td>\n",
       "    </tr>\n",
       "    <tr>\n",
       "      <th>...</th>\n",
       "      <td>...</td>\n",
       "      <td>...</td>\n",
       "      <td>...</td>\n",
       "      <td>...</td>\n",
       "      <td>...</td>\n",
       "      <td>...</td>\n",
       "      <td>...</td>\n",
       "      <td>...</td>\n",
       "      <td>...</td>\n",
       "      <td>...</td>\n",
       "      <td>...</td>\n",
       "      <td>...</td>\n",
       "      <td>...</td>\n",
       "      <td>...</td>\n",
       "      <td>...</td>\n",
       "      <td>...</td>\n",
       "      <td>...</td>\n",
       "      <td>...</td>\n",
       "      <td>...</td>\n",
       "      <td>...</td>\n",
       "      <td>...</td>\n",
       "    </tr>\n",
       "    <tr>\n",
       "      <th>444</th>\n",
       "      <td>0.142857</td>\n",
       "      <td>0.142857</td>\n",
       "      <td>0.142857</td>\n",
       "      <td>0.142857</td>\n",
       "      <td>0.000000</td>\n",
       "      <td>0.142857</td>\n",
       "      <td>0.142857</td>\n",
       "      <td>0.142857</td>\n",
       "      <td>0.000000</td>\n",
       "      <td>0.000000</td>\n",
       "      <td>...</td>\n",
       "      <td>0.146969</td>\n",
       "      <td>6.666667</td>\n",
       "      <td>0</td>\n",
       "      <td>3</td>\n",
       "      <td>1465.695546</td>\n",
       "      <td>0.367822</td>\n",
       "      <td>132.000000</td>\n",
       "      <td>125</td>\n",
       "      <td>147</td>\n",
       "      <td>1.193110</td>\n",
       "    </tr>\n",
       "    <tr>\n",
       "      <th>445</th>\n",
       "      <td>0.142857</td>\n",
       "      <td>0.142857</td>\n",
       "      <td>0.142857</td>\n",
       "      <td>0.142857</td>\n",
       "      <td>0.142857</td>\n",
       "      <td>0.142857</td>\n",
       "      <td>0.142857</td>\n",
       "      <td>0.000000</td>\n",
       "      <td>0.000000</td>\n",
       "      <td>0.000000</td>\n",
       "      <td>...</td>\n",
       "      <td>0.137042</td>\n",
       "      <td>7.333333</td>\n",
       "      <td>0</td>\n",
       "      <td>2</td>\n",
       "      <td>4975.267462</td>\n",
       "      <td>0.523002</td>\n",
       "      <td>128.714286</td>\n",
       "      <td>124</td>\n",
       "      <td>143</td>\n",
       "      <td>1.168513</td>\n",
       "    </tr>\n",
       "    <tr>\n",
       "      <th>446</th>\n",
       "      <td>0.584708</td>\n",
       "      <td>0.000000</td>\n",
       "      <td>0.000000</td>\n",
       "      <td>0.000000</td>\n",
       "      <td>0.000000</td>\n",
       "      <td>0.045477</td>\n",
       "      <td>0.000000</td>\n",
       "      <td>0.000000</td>\n",
       "      <td>0.000000</td>\n",
       "      <td>0.000000</td>\n",
       "      <td>...</td>\n",
       "      <td>0.160000</td>\n",
       "      <td>3.460000</td>\n",
       "      <td>0</td>\n",
       "      <td>3</td>\n",
       "      <td>2001.176118</td>\n",
       "      <td>0.217663</td>\n",
       "      <td>146.995502</td>\n",
       "      <td>116</td>\n",
       "      <td>160</td>\n",
       "      <td>1.398872</td>\n",
       "    </tr>\n",
       "    <tr>\n",
       "      <th>447</th>\n",
       "      <td>0.629685</td>\n",
       "      <td>0.000000</td>\n",
       "      <td>0.000000</td>\n",
       "      <td>0.000000</td>\n",
       "      <td>0.000000</td>\n",
       "      <td>0.045477</td>\n",
       "      <td>0.000000</td>\n",
       "      <td>0.000000</td>\n",
       "      <td>0.000000</td>\n",
       "      <td>0.000000</td>\n",
       "      <td>...</td>\n",
       "      <td>0.160000</td>\n",
       "      <td>3.510000</td>\n",
       "      <td>0</td>\n",
       "      <td>3</td>\n",
       "      <td>2070.503490</td>\n",
       "      <td>0.226904</td>\n",
       "      <td>146.230884</td>\n",
       "      <td>116</td>\n",
       "      <td>160</td>\n",
       "      <td>1.399907</td>\n",
       "    </tr>\n",
       "    <tr>\n",
       "      <th>448</th>\n",
       "      <td>0.666667</td>\n",
       "      <td>0.000000</td>\n",
       "      <td>0.000000</td>\n",
       "      <td>0.000000</td>\n",
       "      <td>0.000000</td>\n",
       "      <td>0.045477</td>\n",
       "      <td>0.000000</td>\n",
       "      <td>0.000000</td>\n",
       "      <td>0.000000</td>\n",
       "      <td>0.000000</td>\n",
       "      <td>...</td>\n",
       "      <td>0.150000</td>\n",
       "      <td>3.550000</td>\n",
       "      <td>0</td>\n",
       "      <td>3</td>\n",
       "      <td>2165.824770</td>\n",
       "      <td>0.239511</td>\n",
       "      <td>145.602199</td>\n",
       "      <td>116</td>\n",
       "      <td>160</td>\n",
       "      <td>1.400763</td>\n",
       "    </tr>\n",
       "  </tbody>\n",
       "</table>\n",
       "<p>449 rows × 36 columns</p>\n",
       "</div>"
      ],
      "text/plain": [
       "           Al        Co        Cr        Fe        Ni        Cu        Mn  \\\n",
       "0    0.111111  0.000000  0.000000  0.000000  0.000000  0.000000  0.000000   \n",
       "1    0.157895  0.000000  0.000000  0.000000  0.000000  0.000000  0.000000   \n",
       "2    0.058824  0.000000  0.000000  0.000000  0.000000  0.000000  0.000000   \n",
       "3    0.058824  0.000000  0.000000  0.000000  0.000000  0.000000  0.000000   \n",
       "4    0.047619  0.000000  0.000000  0.000000  0.000000  0.000000  0.000000   \n",
       "..        ...       ...       ...       ...       ...       ...       ...   \n",
       "444  0.142857  0.142857  0.142857  0.142857  0.000000  0.142857  0.142857   \n",
       "445  0.142857  0.142857  0.142857  0.142857  0.142857  0.142857  0.142857   \n",
       "446  0.584708  0.000000  0.000000  0.000000  0.000000  0.045477  0.000000   \n",
       "447  0.629685  0.000000  0.000000  0.000000  0.000000  0.045477  0.000000   \n",
       "448  0.666667  0.000000  0.000000  0.000000  0.000000  0.045477  0.000000   \n",
       "\n",
       "           Ti         V        Nb  ...  Elect.Diff       VEC  Sythesis_Route  \\\n",
       "0    0.222222  0.222222  0.222222  ...    0.049616  4.555556               0   \n",
       "1    0.210526  0.210526  0.210526  ...    0.232765  4.684211               0   \n",
       "2    0.235294  0.235294  0.235294  ...    0.243217  4.882353               0   \n",
       "3    0.235294  0.235294  0.235294  ...    0.050176  4.647059               0   \n",
       "4    0.238095  0.238095  0.000000  ...    0.244333  4.904762               0   \n",
       "..        ...       ...       ...  ...         ...       ...             ...   \n",
       "444  0.142857  0.000000  0.000000  ...    0.146969  6.666667               0   \n",
       "445  0.000000  0.000000  0.000000  ...    0.137042  7.333333               0   \n",
       "446  0.000000  0.000000  0.000000  ...    0.160000  3.460000               0   \n",
       "447  0.000000  0.000000  0.000000  ...    0.160000  3.510000               0   \n",
       "448  0.000000  0.000000  0.000000  ...    0.150000  3.550000               0   \n",
       "\n",
       "     Phases        omega    lambda       r_avg  r_minimum  r_maximum     gamma  \n",
       "0         0  3469.803740  0.941084  143.222222        134        147  1.103983  \n",
       "1         0  2730.618206  0.893300  141.736842        134        147  1.104455  \n",
       "2         0  6597.555141  0.792925  141.588235        134        147  1.104502  \n",
       "3         0  6102.098558  0.865245  143.235294        134        147  1.103979  \n",
       "4         0  7937.803591  0.778630  141.571429        134        147  1.104508  \n",
       "..      ...          ...       ...         ...        ...        ...       ...  \n",
       "444       3  1465.695546  0.367822  132.000000        125        147  1.193110  \n",
       "445       2  4975.267462  0.523002  128.714286        124        143  1.168513  \n",
       "446       3  2001.176118  0.217663  146.995502        116        160  1.398872  \n",
       "447       3  2070.503490  0.226904  146.230884        116        160  1.399907  \n",
       "448       3  2165.824770  0.239511  145.602199        116        160  1.400763  \n",
       "\n",
       "[449 rows x 36 columns]"
      ]
     },
     "execution_count": 169,
     "metadata": {},
     "output_type": "execute_result"
    }
   ],
   "source": [
    "df"
   ]
  },
  {
   "cell_type": "markdown",
   "id": "3b08676d-d5c0-4e2d-ac34-4eab2405c54e",
   "metadata": {
    "jp-MarkdownHeadingCollapsed": true
   },
   "source": [
    "#### DATA VISUALISATION"
   ]
  },
  {
   "cell_type": "code",
   "execution_count": 170,
   "id": "5e90b8fa-36a7-4c05-b06b-44df1e36b1ca",
   "metadata": {},
   "outputs": [
    {
     "data": {
      "image/png": "[encoded data removed]",
      "text/plain": [
       "<Figure size 640x480 with 1 Axes>"
      ]
     },
     "metadata": {},
     "output_type": "display_data"
    }
   ],
   "source": [
    "sns.countplot(x = df['Phases'], hue = df['Phases'], palette = 'coolwarm')\n",
    "plt.show()"
   ]
  },
  {
   "cell_type": "code",
   "execution_count": 171,
   "id": "dc6ea02e-8490-41e1-aa37-f957f499deee",
   "metadata": {},
   "outputs": [
    {
     "data": {
      "image/png": "[encoded data removed]",
      "text/plain": [
       "<Figure size 640x480 with 1 Axes>"
      ]
     },
     "metadata": {},
     "output_type": "display_data"
    }
   ],
   "source": [
    "sns.scatterplot(data = df, x= 'VEC', y='Atom.Size.Diff', hue='Phases', palette= 'coolwarm')\n",
    "plt.show()"
   ]
  },
  {
   "cell_type": "code",
   "execution_count": 172,
   "id": "d64d1019-2e74-4ae2-bbdb-5bfeb574a4d4",
   "metadata": {},
   "outputs": [
    {
     "data": {
      "image/png": "[encoded data removed]",
      "text/plain": [
       "<Figure size 1400x1000 with 2 Axes>"
      ]
     },
     "metadata": {},
     "output_type": "display_data"
    }
   ],
   "source": [
    "plt.figure(figsize=(14, 10))\n",
    "sns.heatmap(df.corr(), annot=False, cmap='coolwarm', fmt=\".2f\", linewidths=.5)\n",
    "plt.title('Correlation Matrix Plot')\n",
    "plt.show()"
   ]
  },
  {
   "cell_type": "markdown",
   "id": "ad35d9b0-3670-4f5f-8331-7afa116c7291",
   "metadata": {
    "jp-MarkdownHeadingCollapsed": true
   },
   "source": [
    "#### FEATURE SCALING AND FEATURE EXTRACTION"
   ]
  },
  {
   "cell_type": "code",
   "execution_count": 173,
   "id": "1751d2e9-8c1c-4d18-86a1-34cc8b3ed92e",
   "metadata": {},
   "outputs": [],
   "source": [
    "x = df.drop(columns = ['Phases'])\n",
    "y = df['Phases']"
   ]
  },
  {
   "cell_type": "markdown",
   "id": "a9e0feca-07b7-49a2-8ebc-58c98397a63a",
   "metadata": {},
   "source": [
    "**DATA SPLITTING**"
   ]
  },
  {
   "cell_type": "code",
   "execution_count": 174,
   "id": "c5272196-2907-48d6-91a8-6ac2d008c1de",
   "metadata": {},
   "outputs": [],
   "source": [
    "from sklearn.model_selection import train_test_split\n",
    "x_train, x_test, y_train, y_test = train_test_split(x, y, test_size = 0.2, random_state = 42) "
   ]
  },
  {
   "cell_type": "markdown",
   "id": "751ac26c-6fc9-49a9-be93-d0cd5a68ad1a",
   "metadata": {},
   "source": [
    "**FEATURE SCALING** : Feature scaling is the process of normalizing or standardizing the range of independent variables or features in a dataset to ensure they contribute equally to the model's performance."
   ]
  },
  {
   "cell_type": "code",
   "execution_count": 175,
   "id": "e1888baa-9c17-470d-b3a5-fd218852a3e2",
   "metadata": {},
   "outputs": [],
   "source": [
    "from sklearn.preprocessing import StandardScaler\n",
    "scaler = StandardScaler()"
   ]
  },
  {
   "cell_type": "code",
   "execution_count": 176,
   "id": "0acee8ee-2ab3-4e03-9066-8a78d6f50f30",
   "metadata": {},
   "outputs": [],
   "source": [
    "x_train_scaled = scaler.fit_transform(x_train)\n",
    "x_test_scaled = scaler.transform(x_test)"
   ]
  },
  {
   "cell_type": "markdown",
   "id": "40e5134e-3c72-471c-813e-54d03985a5c1",
   "metadata": {},
   "source": [
    "**FEATURE EXTRACTION** : Feature extraction using PCA involves transforming the original features into a new set of orthogonal features (principal components) that capture the maximum variance in the data."
   ]
  },
  {
   "cell_type": "code",
   "execution_count": 177,
   "id": "dbedfc47-ee67-48c3-be9a-86e82d92484a",
   "metadata": {},
   "outputs": [],
   "source": [
    "from sklearn.decomposition import PCA\n",
    "pca = PCA(n_components = None)"
   ]
  },
  {
   "cell_type": "code",
   "execution_count": 178,
   "id": "c67d6bf6-0619-4696-a4fc-5b72431f1e04",
   "metadata": {},
   "outputs": [],
   "source": [
    "x_train_pca = pca.fit_transform(x_train_scaled)\n",
    "x_test_pca = pca.transform(x_test_scaled)"
   ]
  },
  {
   "cell_type": "code",
   "execution_count": 179,
   "id": "8f06e5f0-528c-4e7f-9bd6-bef9f34128ad",
   "metadata": {},
   "outputs": [
    {
     "data": {
      "image/png": "[encoded data removed]",
      "text/plain": [
       "<Figure size 640x480 with 1 Axes>"
      ]
     },
     "metadata": {},
     "output_type": "display_data"
    }
   ],
   "source": [
    "plt.plot(np.cumsum(pca.explained_variance_ratio_))\n",
    "plt.axhline(y=0.9, color = 'red', linestyle = '--')\n",
    "cumulative_explained_variance = np.cumsum(pca.explained_variance_ratio_)\n",
    "num_components = np.argmax(cumulative_explained_variance >= 0.9)\n",
    "plt.axvline(x = num_components, color = 'red', linestyle = '--')\n",
    "plt.scatter(num_components, cumulative_explained_variance[num_components], color='black')\n",
    "plt.text(num_components, cumulative_explained_variance[num_components], f'({num_components}, {cumulative_explained_variance[num_components]:.2f})')\n",
    "plt.xlabel('No of components')\n",
    "plt.ylabel('Ratio of explained variance')\n",
    "plt.show()"
   ]
  },
  {
   "cell_type": "code",
   "execution_count": 180,
   "id": "a4bb4888-5601-486c-b1c1-bda025a79855",
   "metadata": {},
   "outputs": [],
   "source": [
    "from sklearn.decomposition import PCA\n",
    "pca = PCA(n_components = 14)\n",
    "x_train_pca = pca.fit_transform(x_train_scaled)\n",
    "x_test_pca = pca.transform(x_test_scaled)"
   ]
  },
  {
   "cell_type": "code",
   "execution_count": 181,
   "id": "1c098a7d-1f9b-45a1-89e7-0010c7d1a0f8",
   "metadata": {},
   "outputs": [
    {
     "data": {
      "text/plain": [
       "(359, 14)"
      ]
     },
     "execution_count": 181,
     "metadata": {},
     "output_type": "execute_result"
    }
   ],
   "source": [
    "x_train_pca.shape"
   ]
  },
  {
   "cell_type": "code",
   "execution_count": 182,
   "id": "7e9e6b60-08df-4a2e-8fa5-4babd6bc758e",
   "metadata": {},
   "outputs": [
    {
     "data": {
      "text/plain": [
       "(90, 14)"
      ]
     },
     "execution_count": 182,
     "metadata": {},
     "output_type": "execute_result"
    }
   ],
   "source": [
    "x_test_pca.shape"
   ]
  },
  {
   "cell_type": "code",
   "execution_count": 183,
   "id": "f5e35429-6838-4124-9dde-b8e88c26ecef",
   "metadata": {},
   "outputs": [
    {
     "data": {
      "text/plain": [
       "array([9.57545139, 4.59322121, 3.30029774, 2.09094631, 2.02565467,\n",
       "       1.58515639, 1.39431998, 1.31478009, 1.09620945, 1.00822196,\n",
       "       0.93516207, 0.81062902, 0.77357134, 0.69496894])"
      ]
     },
     "execution_count": 183,
     "metadata": {},
     "output_type": "execute_result"
    }
   ],
   "source": [
    "pca.explained_variance_"
   ]
  },
  {
   "cell_type": "code",
   "execution_count": 184,
   "id": "7826d8d3-b5c5-44b8-8ab1-303e7dc26daf",
   "metadata": {},
   "outputs": [
    {
     "data": {
      "text/plain": [
       "array([0.27282225, 0.13086933, 0.09403156, 0.05957491, 0.05771463,\n",
       "       0.04516403, 0.03972675, 0.03746051, 0.03123303, 0.0287261 ,\n",
       "       0.02664449, 0.02309631, 0.02204047, 0.01980095])"
      ]
     },
     "execution_count": 184,
     "metadata": {},
     "output_type": "execute_result"
    }
   ],
   "source": [
    "pca.explained_variance_ratio_"
   ]
  },
  {
   "cell_type": "markdown",
   "id": "18a6738a-8564-464f-94e2-4646dc82a5b4",
   "metadata": {
    "jp-MarkdownHeadingCollapsed": true
   },
   "source": [
    "#### MODEL TRAINING, EVALUATION AND SELECTION"
   ]
  },
  {
   "cell_type": "markdown",
   "id": "acc6e920-6ad0-477d-ac67-1351adfc1f52",
   "metadata": {},
   "source": [
    "Initial Model Training with Logistic regression and Decision Tree: Achieved an accuracy of 68.88% on\r\n",
    "the test set withboth Logistic Regression andaDdecisionTtree model."
   ]
  },
  {
   "cell_type": "code",
   "execution_count": 185,
   "id": "3479fed4-71f5-4988-a41a-039b8877f0be",
   "metadata": {},
   "outputs": [],
   "source": [
    "from sklearn.linear_model import LogisticRegression\n",
    "from sklearn.metrics import accuracy_score"
   ]
  },
  {
   "cell_type": "code",
   "execution_count": 105,
   "id": "42645cca-642c-4ec6-8ba6-16fb090c531c",
   "metadata": {},
   "outputs": [
    {
     "name": "stderr",
     "output_type": "stream",
     "text": [
      "C:\\Users\\Shivani\\AppData\\Local\\Programs\\Python\\Python312\\Lib\\site-packages\\sklearn\\linear_model\\_logistic.py:1247: FutureWarning: 'multi_class' was deprecated in version 1.5 and will be removed in 1.7. From then on, it will always use 'multinomial'. Leave it to its default value to avoid this warning.\n",
      "  warnings.warn(\n"
     ]
    },
    {
     "name": "stdout",
     "output_type": "stream",
     "text": [
      "accuracy score: 0.6888888888888889\n"
     ]
    }
   ],
   "source": [
    "softmax_regressor = LogisticRegression()\n",
    "softmax_regressor.fit(x_train_pca, y_train)\n",
    "y_pred = softmax_regressor.predict(x_test_pca)\n",
    "print('accuracy score:', accuracy_score(y_test,y_pred))"
   ]
  },
  {
   "cell_type": "code",
   "execution_count": 106,
   "id": "570631ca-a945-4dbf-a18f-85062b659d74",
   "metadata": {},
   "outputs": [
    {
     "name": "stdout",
     "output_type": "stream",
     "text": [
      "accuracy score: 0.6888888888888889\n"
     ]
    }
   ],
   "source": [
    "from sklearn.tree import DecisionTreeClassifier\n",
    "dt = DecisionTreeClassifier()\n",
    "dt.fit(x_train_pca, y_train)\n",
    "y_pred = dt.predict(x_test_pca)\n",
    "print('accuracy score:', accuracy_score(y_test,y_pred))"
   ]
  },
  {
   "cell_type": "markdown",
   "id": "7138e6ec-75d6-42d7-bcac-066bea42dc17",
   "metadata": {},
   "source": [
    "Now, we will use Ensemble methods such as Random Forest and XgBoost and then do hyperparameter tuning."
   ]
  },
  {
   "cell_type": "code",
   "execution_count": 107,
   "id": "0b862c4f-9afa-470d-b29a-b506fe4e2e20",
   "metadata": {},
   "outputs": [
    {
     "name": "stdout",
     "output_type": "stream",
     "text": [
      "accuracy score: 0.7111111111111111\n"
     ]
    }
   ],
   "source": [
    "from sklearn.ensemble import RandomForestClassifier\n",
    "rf = RandomForestClassifier()\n",
    "rf.fit(x_train_pca, y_train)\n",
    "y_pred = rf.predict(x_test_pca)\n",
    "print('accuracy score:', accuracy_score(y_test,y_pred))"
   ]
  },
  {
   "cell_type": "code",
   "execution_count": 108,
   "id": "a64d32e8-7600-48e5-94c7-29fd9a2c476b",
   "metadata": {},
   "outputs": [
    {
     "name": "stdout",
     "output_type": "stream",
     "text": [
      "Fitting 5 folds for each of 162 candidates, totalling 810 fits\n",
      "Best parameters found:  {'bootstrap': True, 'max_depth': 10, 'min_samples_leaf': 1, 'min_samples_split': 2, 'n_estimators': 50}\n",
      "Best cross-validation accuracy: 0.75\n",
      "Test set accuracy: 0.71\n"
     ]
    }
   ],
   "source": [
    "from sklearn.model_selection import GridSearchCV\n",
    "from sklearn.ensemble import RandomForestClassifier\n",
    "\n",
    "param_grid = {\n",
    "    'n_estimators': [50,100,200],\n",
    "    'max_depth': [10, 20, 30],\n",
    "    'min_samples_split': [2, 5, 10],\n",
    "    'min_samples_leaf': [1, 2, 4],\n",
    "    'bootstrap': [True, False]\n",
    "}\n",
    "\n",
    "rf = RandomForestClassifier(random_state=42)\n",
    "\n",
    "grid_search = GridSearchCV(estimator=rf, param_grid=param_grid, cv=5, n_jobs=-1, verbose=2)\n",
    "\n",
    "grid_search.fit(x_train_pca, y_train)\n",
    "print(\"Best parameters found: \", grid_search.best_params_)\n",
    "print(\"Best cross-validation accuracy: {:.2f}\".format(grid_search.best_score_))\n",
    "best_rf = grid_search.best_estimator_\n",
    "y_pred = best_rf.predict(x_test_pca)\n",
    "test_accuracy = accuracy_score(y_test, y_pred)\n",
    "print(\"Test set accuracy: {:.2f}\".format(test_accuracy))"
   ]
  },
  {
   "cell_type": "code",
   "execution_count": 113,
   "id": "cf6e99e7-edb2-4ee0-8067-dfeb5079dc44",
   "metadata": {},
   "outputs": [
    {
     "name": "stdout",
     "output_type": "stream",
     "text": [
      "accuracy score: 0.7\n"
     ]
    }
   ],
   "source": [
    "from xgboost import XGBClassifier\n",
    "xgb = XGBClassifier()\n",
    "xgb.fit(x_train_pca, y_train)\n",
    "y_pred = xgb.predict(x_test_pca)\n",
    "print('accuracy score:', accuracy_score(y_test,y_pred))"
   ]
  },
  {
   "cell_type": "code",
   "execution_count": 109,
   "id": "b58bd87d-da78-43d3-97c2-0ecc9cffe59f",
   "metadata": {},
   "outputs": [
    {
     "name": "stdout",
     "output_type": "stream",
     "text": [
      "Fitting 5 folds for each of 324 candidates, totalling 1620 fits\n",
      "Best parameters found:  {'colsample_bytree': 0.8, 'gamma': 0, 'learning_rate': 0.1, 'max_depth': 7, 'n_estimators': 150, 'subsample': 0.8}\n",
      "Best cross-validation accuracy: 0.75\n",
      "Test set accuracy: 0.69\n"
     ]
    }
   ],
   "source": [
    "from sklearn.model_selection import GridSearchCV\n",
    "from xgboost import XGBClassifier\n",
    "\n",
    "param_grid = {\n",
    "    'n_estimators': [50,100,200],\n",
    "    'max_depth': [3, 5, 7],\n",
    "    'learning_rate': [0.01, 0.1, 0.2],\n",
    "    'subsample': [0.8, 1.0],\n",
    "    'colsample_bytree': [0.8, 1.0],\n",
    "    'gamma': [0, 0.1, 0.2]\n",
    "}\n",
    "\n",
    "xgb = XGBClassifier(random_state=42, use_label_encoder=False, eval_metric='mlogloss')\n",
    "\n",
    "grid_search = GridSearchCV(estimator=xgb, param_grid=param_grid, cv=5, n_jobs=-1, verbose=2)\n",
    "\n",
    "grid_search.fit(x_train_pca, y_train)\n",
    "print(\"Best parameters found: \", grid_search.best_params_)\n",
    "print(\"Best cross-validation accuracy: {:.2f}\".format(grid_search.best_score_))\n",
    "best_xgb = grid_search.best_estimator_\n",
    "y_pred = best_xgb.predict(x_test_pca)\n",
    "test_accuracy = accuracy_score(y_test, y_pred)\n",
    "print(\"Test set accuracy: {:.2f}\".format(test_accuracy))"
   ]
  },
  {
   "cell_type": "markdown",
   "id": "1c47dd37-8dbf-4a51-b327-06c640ed17c8",
   "metadata": {},
   "source": [
    "Now we will use K-Neighbors Classifier and then apply hyperparameter tuning."
   ]
  },
  {
   "cell_type": "code",
   "execution_count": 114,
   "id": "8a151c91-897d-43dc-a58c-c550e3470cae",
   "metadata": {},
   "outputs": [
    {
     "name": "stdout",
     "output_type": "stream",
     "text": [
      "accuracy score: 0.6222222222222222\n"
     ]
    }
   ],
   "source": [
    "from sklearn.neighbors import KNeighborsClassifier\n",
    "knn = KNeighborsClassifier()\n",
    "knn.fit(x_train_pca, y_train)\n",
    "y_pred = knn.predict(x_test_pca)\n",
    "print('accuracy score:', accuracy_score(y_test,y_pred))"
   ]
  },
  {
   "cell_type": "code",
   "execution_count": 111,
   "id": "f3fccddf-75c6-4681-bf2e-40d7c92306d4",
   "metadata": {},
   "outputs": [
    {
     "name": "stdout",
     "output_type": "stream",
     "text": [
      "Fitting 5 folds for each of 30 candidates, totalling 150 fits\n",
      "Best parameters found:  {'metric': 'manhattan', 'n_neighbors': 3, 'weights': 'distance'}\n",
      "Best cross-validation accuracy: 0.74\n",
      "Test set accuracy: 0.71\n"
     ]
    }
   ],
   "source": [
    "from sklearn.model_selection import GridSearchCV\n",
    "from sklearn.neighbors import KNeighborsClassifier\n",
    "\n",
    "param_grid = {\n",
    "    'n_neighbors': [3, 5, 7, 9, 11],  # Number of neighbors\n",
    "    'weights': ['uniform', 'distance'],  # Weight function used in prediction\n",
    "    'metric': ['euclidean', 'manhattan', 'minkowski']  # Distance metric\n",
    "}\n",
    "\n",
    "knn = KNeighborsClassifier()\n",
    "\n",
    "grid_search = GridSearchCV(estimator=knn, param_grid=param_grid, cv=5, n_jobs=-1, verbose=2)\n",
    "\n",
    "grid_search.fit(x_train_pca, y_train)\n",
    "print(\"Best parameters found: \", grid_search.best_params_)\n",
    "print(\"Best cross-validation accuracy: {:.2f}\".format(grid_search.best_score_))\n",
    "best_knn = grid_search.best_estimator_\n",
    "y_pred = best_knn.predict(x_test_pca)\n",
    "test_accuracy = accuracy_score(y_test, y_pred)\n",
    "print(\"Test set accuracy: {:.2f}\".format(test_accuracy))"
   ]
  },
  {
   "cell_type": "markdown",
   "id": "e49eb37c-bb50-4dbd-bee0-e4bd416c52ef",
   "metadata": {},
   "source": [
    "Now we will use SVM Classifier and then apply hyperparameter tuning."
   ]
  },
  {
   "cell_type": "code",
   "execution_count": 186,
   "id": "996f36ad-b276-4cfc-8b34-a9aaa4495f0d",
   "metadata": {},
   "outputs": [
    {
     "name": "stdout",
     "output_type": "stream",
     "text": [
      "accuracy score: 0.7333333333333333\n"
     ]
    }
   ],
   "source": [
    "from sklearn.svm import SVC\n",
    "svc = SVC()\n",
    "svc.fit(x_train_pca, y_train)\n",
    "y_pred = svc.predict(x_test_pca)\n",
    "print('accuracy score:', accuracy_score(y_test,y_pred))"
   ]
  },
  {
   "cell_type": "code",
   "execution_count": 187,
   "id": "03edfda8-7986-4d61-a079-77c578fbeef7",
   "metadata": {},
   "outputs": [
    {
     "name": "stdout",
     "output_type": "stream",
     "text": [
      "Fitting 5 folds for each of 64 candidates, totalling 320 fits\n",
      "Best parameters found:  {'C': 10, 'gamma': 0.1, 'kernel': 'rbf'}\n",
      "Best cross-validation accuracy: 0.73\n",
      "Test set accuracy: 0.79\n"
     ]
    }
   ],
   "source": [
    "from sklearn.svm import SVC\n",
    "\n",
    "param_grid = {\n",
    "    'C': [0.1, 1, 10, 100],  # Regularization parameter\n",
    "    'gamma': [1, 0.1, 0.01, 0.001],  # Kernel coefficient\n",
    "    'kernel': ['rbf', 'linear', 'poly', 'sigmoid']  # Kernel type\n",
    "}\n",
    "\n",
    "svm = SVC()\n",
    "\n",
    "grid_search = GridSearchCV(estimator=svm, param_grid=param_grid, cv=5, n_jobs=-1, verbose=2)\n",
    "\n",
    "grid_search.fit(x_train_pca, y_train)\n",
    "print(\"Best parameters found: \", grid_search.best_params_)\n",
    "print(\"Best cross-validation accuracy: {:.2f}\".format(grid_search.best_score_))\n",
    "best_svm = grid_search.best_estimator_\n",
    "y_pred = best_svm.predict(x_test_pca)\n",
    "test_accuracy = accuracy_score(y_test, y_pred)\n",
    "print(\"Test set accuracy: {:.2f}\".format(test_accuracy))"
   ]
  },
  {
   "cell_type": "markdown",
   "id": "baefadeb-fa7c-443e-ab7c-ee7d75006ef3",
   "metadata": {},
   "source": [
    "**Addressing Imbalanced Data** : \n",
    "1.  Recognized the presence of a class imbalance in the dataset, which could skew\n",
    "model predictions.\n",
    "2. Implemented oversampling using SMOTE (Synthetic Minority Over-sampling\n",
    "Technique) to balance the class distribution..\r"
   ]
  },
  {
   "cell_type": "code",
   "execution_count": 188,
   "id": "2ca081c7-dfb0-4351-bc74-fc6c2268a761",
   "metadata": {},
   "outputs": [],
   "source": [
    "from imblearn.over_sampling import SMOTE\n",
    "sm = SMOTE(random_state=42)\n",
    "x_sm, y_sm = sm.fit_resample(x,y)"
   ]
  },
  {
   "cell_type": "code",
   "execution_count": 189,
   "id": "1d1ef1fb-b2e0-40a0-a88c-f6a0dbc30f00",
   "metadata": {},
   "outputs": [],
   "source": [
    "x_train, x_test, y_train, y_test = train_test_split(x_sm, y_sm,test_size = 0.20,random_state = 42)\n",
    "from sklearn.preprocessing import StandardScaler\n",
    "scaler = StandardScaler()\n",
    "x_train_scaled_sm = scaler.fit_transform(x_train)\n",
    "x_test_scaled_sm = scaler.transform(x_test)"
   ]
  },
  {
   "cell_type": "markdown",
   "id": "2b4a3ea9-b91c-4aea-95bb-652687c47497",
   "metadata": {},
   "source": [
    "Using Random Forest with SMOTE and then applying hyperparameter tuning."
   ]
  },
  {
   "cell_type": "code",
   "execution_count": 197,
   "id": "500247ed-0de1-4017-a59f-f4d224959756",
   "metadata": {},
   "outputs": [
    {
     "data": {
      "text/plain": [
       "0.8402777777777778"
      ]
     },
     "execution_count": 197,
     "metadata": {},
     "output_type": "execute_result"
    }
   ],
   "source": [
    "from sklearn.ensemble import RandomForestClassifier\n",
    "rf = RandomForestClassifier()\n",
    "rf.fit(x_train_scaled_sm, y_train)\n",
    "y_pred = rf.predict(x_test_scaled_sm)\n",
    "accuracy_score(y_test, y_pred)"
   ]
  },
  {
   "cell_type": "code",
   "execution_count": 191,
   "id": "35ce12db-0644-495b-8990-302a63460c97",
   "metadata": {},
   "outputs": [
    {
     "name": "stdout",
     "output_type": "stream",
     "text": [
      "Fitting 5 folds for each of 162 candidates, totalling 810 fits\n",
      "Best parameters found:  {'bootstrap': True, 'max_depth': 20, 'min_samples_leaf': 1, 'min_samples_split': 2, 'n_estimators': 50}\n",
      "Best cross-validation accuracy: 0.87\n",
      "Test set accuracy: 0.83\n"
     ]
    }
   ],
   "source": [
    "from sklearn.model_selection import GridSearchCV\n",
    "from sklearn.ensemble import RandomForestClassifier\n",
    "\n",
    "param_grid = {\n",
    "    'n_estimators': [50,100,200],\n",
    "    'max_depth': [10, 20, 30],\n",
    "    'min_samples_split': [2, 5, 10],\n",
    "    'min_samples_leaf': [1, 2, 4],\n",
    "    'bootstrap': [True, False]\n",
    "}\n",
    "\n",
    "rf = RandomForestClassifier(random_state=42)\n",
    "\n",
    "grid_search = GridSearchCV(estimator=rf, param_grid=param_grid, cv=5, n_jobs=-1, verbose=2)\n",
    "\n",
    "grid_search.fit(x_train_scaled_sm, y_train)\n",
    "print(\"Best parameters found: \", grid_search.best_params_)\n",
    "print(\"Best cross-validation accuracy: {:.2f}\".format(grid_search.best_score_))\n",
    "best_rf = grid_search.best_estimator_\n",
    "y_pred = best_rf.predict(x_test_scaled_sm)\n",
    "test_accuracy = accuracy_score(y_test, y_pred)\n",
    "print(\"Test set accuracy: {:.2f}\".format(test_accuracy))"
   ]
  },
  {
   "cell_type": "markdown",
   "id": "39eb2c9a-9de2-4292-800d-9d058a1616e0",
   "metadata": {},
   "source": [
    "Using XgBoost Classifier with SMOTE and then applying hyperparameter tuning."
   ]
  },
  {
   "cell_type": "code",
   "execution_count": 199,
   "id": "83d4f287-5cf1-44cf-8e9a-eb49df7878a1",
   "metadata": {},
   "outputs": [
    {
     "name": "stdout",
     "output_type": "stream",
     "text": [
      "accuracy score: 0.8402777777777778\n"
     ]
    }
   ],
   "source": [
    "from xgboost import XGBClassifier\n",
    "xgb = XGBClassifier()\n",
    "xgb.fit(x_train_scaled_sm, y_train)\n",
    "y_pred = xgb.predict(x_test_scaled_sm)\n",
    "print('accuracy score:', accuracy_score(y_test,y_pred))"
   ]
  },
  {
   "cell_type": "code",
   "execution_count": 202,
   "id": "eeb8fc32-89ea-4c63-bbbe-563fd93f7b48",
   "metadata": {},
   "outputs": [
    {
     "name": "stdout",
     "output_type": "stream",
     "text": [
      "Fitting 5 folds for each of 324 candidates, totalling 1620 fits\n",
      "Best parameters found:  {'colsample_bytree': 0.8, 'gamma': 0, 'learning_rate': 0.2, 'max_depth': 7, 'n_estimators': 100, 'subsample': 1.0}\n",
      "Best cross-validation accuracy: 0.87\n",
      "Test set accuracy: 0.83\n"
     ]
    }
   ],
   "source": [
    "from sklearn.model_selection import GridSearchCV\n",
    "from xgboost import XGBClassifier\n",
    "\n",
    "param_grid = {\n",
    "    'n_estimators': [50,100,200],\n",
    "    'max_depth': [3, 5, 7],\n",
    "    'learning_rate': [0.01, 0.1, 0.2],\n",
    "    'subsample': [0.8, 1.0],\n",
    "    'colsample_bytree': [0.8, 1.0],\n",
    "    'gamma': [0, 0.1, 0.2]\n",
    "}\n",
    "\n",
    "xgb = XGBClassifier(random_state=42, use_label_encoder=False, eval_metric='mlogloss')\n",
    "\n",
    "grid_search = GridSearchCV(estimator=xgb, param_grid=param_grid, cv=5, n_jobs=-1, verbose=2)\n",
    "\n",
    "grid_search.fit(x_train_scaled_sm, y_train)\n",
    "print(\"Best parameters found: \", grid_search.best_params_)\n",
    "print(\"Best cross-validation accuracy: {:.2f}\".format(grid_search.best_score_))\n",
    "best_xgb = grid_search.best_estimator_\n",
    "y_pred = best_xgb.predict(x_test_scaled_sm)\n",
    "test_accuracy = accuracy_score(y_test, y_pred)\n",
    "print(\"Test set accuracy: {:.2f}\".format(test_accuracy))"
   ]
  },
  {
   "cell_type": "markdown",
   "id": "9ca54698-f791-4d5c-8fd9-e2677470f59e",
   "metadata": {},
   "source": [
    "Using K-Neighbors Classifier with SMOTE and then applying hyperparameter tuning."
   ]
  },
  {
   "cell_type": "code",
   "execution_count": 201,
   "id": "004d79f2-e225-4e87-8e0c-5bfb6b1c4962",
   "metadata": {},
   "outputs": [
    {
     "name": "stdout",
     "output_type": "stream",
     "text": [
      "accuracy score: 0.7569444444444444\n"
     ]
    }
   ],
   "source": [
    "from sklearn.neighbors import KNeighborsClassifier\n",
    "knn = KNeighborsClassifier()\n",
    "knn.fit(x_train_scaled_sm, y_train)\n",
    "y_pred = knn.predict(x_test_scaled_sm)\n",
    "print('accuracy score:', accuracy_score(y_test,y_pred))"
   ]
  },
  {
   "cell_type": "code",
   "execution_count": 200,
   "id": "b305e147-a107-444e-bd60-d40c3c15743e",
   "metadata": {},
   "outputs": [
    {
     "name": "stdout",
     "output_type": "stream",
     "text": [
      "Fitting 5 folds for each of 30 candidates, totalling 150 fits\n",
      "Best parameters found:  {'metric': 'manhattan', 'n_neighbors': 3, 'weights': 'distance'}\n",
      "Best cross-validation accuracy: 0.86\n",
      "Test set accuracy: 0.81\n"
     ]
    }
   ],
   "source": [
    "from sklearn.model_selection import GridSearchCV\n",
    "from sklearn.neighbors import KNeighborsClassifier\n",
    "\n",
    "param_grid = {\n",
    "    'n_neighbors': [3, 5, 7, 9, 11],  # Number of neighbors\n",
    "    'weights': ['uniform', 'distance'],  # Weight function used in prediction\n",
    "    'metric': ['euclidean', 'manhattan', 'minkowski']  # Distance metric\n",
    "}\n",
    "\n",
    "knn = KNeighborsClassifier()\n",
    "\n",
    "grid_search = GridSearchCV(estimator=knn, param_grid=param_grid, cv=5, n_jobs=-1, verbose=2)\n",
    "\n",
    "grid_search.fit(x_train_scaled_sm, y_train)\n",
    "print(\"Best parameters found: \", grid_search.best_params_)\n",
    "print(\"Best cross-validation accuracy: {:.2f}\".format(grid_search.best_score_))\n",
    "best_knn = grid_search.best_estimator_\n",
    "y_pred = best_knn.predict(x_test_scaled_sm)\n",
    "test_accuracy = accuracy_score(y_test, y_pred)\n",
    "print(\"Test set accuracy: {:.2f}\".format(test_accuracy))"
   ]
  },
  {
   "cell_type": "markdown",
   "id": "93ac9635-4f1e-4a4c-bb7e-9cf1e8946b14",
   "metadata": {},
   "source": [
    "Using SVM Classifier with SMOTE and then applying hyperparameter tuning."
   ]
  },
  {
   "cell_type": "code",
   "execution_count": 193,
   "id": "4d6a2b3e-eddc-4c22-860e-07487c16741a",
   "metadata": {},
   "outputs": [
    {
     "name": "stdout",
     "output_type": "stream",
     "text": [
      "accuracy score: 0.7916666666666666\n"
     ]
    }
   ],
   "source": [
    "from sklearn.svm import SVC\n",
    "svc = SVC()\n",
    "svc.fit(x_train_scaled_sm, y_train)\n",
    "y_pred = svc.predict(x_test_scaled_sm)\n",
    "print('accuracy score:', accuracy_score(y_test,y_pred))"
   ]
  },
  {
   "cell_type": "code",
   "execution_count": 194,
   "id": "f69aa254-fd12-46dd-b34f-004454b52e0b",
   "metadata": {},
   "outputs": [
    {
     "name": "stdout",
     "output_type": "stream",
     "text": [
      "Fitting 5 folds for each of 64 candidates, totalling 320 fits\n",
      "Best parameters found:  {'C': 10, 'gamma': 0.1, 'kernel': 'rbf'}\n",
      "Best cross-validation accuracy: 0.87\n",
      "Test set accuracy: 0.81\n"
     ]
    }
   ],
   "source": [
    "from sklearn.svm import SVC\n",
    "\n",
    "param_grid = {\n",
    "    'C': [0.1, 1, 10, 100],  # Regularization parameter\n",
    "    'gamma': [1, 0.1, 0.01, 0.001],  # Kernel coefficient\n",
    "    'kernel': ['rbf', 'linear', 'poly', 'sigmoid']  # Kernel type\n",
    "}\n",
    "\n",
    "svm = SVC()\n",
    "\n",
    "grid_search = GridSearchCV(estimator=svm, param_grid=param_grid, cv=5, n_jobs=-1, verbose=2)\n",
    "\n",
    "grid_search.fit(x_train_scaled_sm, y_train)\n",
    "print(\"Best parameters found: \", grid_search.best_params_)\n",
    "print(\"Best cross-validation accuracy: {:.2f}\".format(grid_search.best_score_))\n",
    "best_svm = grid_search.best_estimator_\n",
    "y_pred = best_svm.predict(x_test_scaled_sm)\n",
    "test_accuracy = accuracy_score(y_test, y_pred)\n",
    "print(\"Test set accuracy: {:.2f}\".format(test_accuracy))"
   ]
  },
  {
   "cell_type": "markdown",
   "id": "0c6da9c6-6466-48b8-a04f-07dd9629a7e7",
   "metadata": {
    "jp-MarkdownHeadingCollapsed": true
   },
   "source": [
    "#### CONCLUSION"
   ]
  },
  {
   "cell_type": "markdown",
   "id": "540f846f-7468-4a77-a15d-bbb8d569d61e",
   "metadata": {},
   "source": [
    "The accuracy of our model initially was 68.88% using Logistic Regression and Decision Tree. \n",
    "After that we applied hyperparameter tuning and got a maximum accuracy of 79% using SVM Classifier.\n",
    "After addressing imbalanced data, we applied SMOTE for data balancing, re-evaluated the Random Forest model and observed a significant increase in accuracy to 84.02%."
   ]
  },
  {
   "cell_type": "code",
   "execution_count": null,
   "id": "ad212b16-0e3a-4c67-83b8-450afc6f4364",
   "metadata": {},
   "outputs": [],
   "source": [
    "from sklearn.ensemble import RandomForestClassifier\n",
    "rf = RandomForestClassifier()\n",
    "rf.fit(x_train_scaled_sm, y_train)\n",
    "y_pred = rf.predict(x_test_scaled_sm)\n",
    "accuracy_score(y_test, y_pred)"
   ]
  },
  {
   "cell_type": "markdown",
   "id": "8d462310-2861-45e4-b17c-838b147ab128",
   "metadata": {},
   "source": [
    "**CLASSIFICATION REPORT**: A classification report is a summary of the performance of a classification model, providing metrics such as precision, recall, F1-score, and support for each class.\n",
    "1. Precision : Precision measures the proportion of true positive predictions among all positive predictions made by the model.\n",
    "2. Recall(Sensitivity) : Recall measures the proportion of true positive predictions among all actual positive instances in the dataset.\n",
    "3. F1 Score : The F1 score is the harmonic mean of precision and recall, providing a balance between the two metrics.\n",
    "4. Support : Support represents the number of occurrences of each class in the actual dataset."
   ]
  },
  {
   "cell_type": "code",
   "execution_count": null,
   "id": "eb8630ba-b1f3-4741-b739-3b271bc4627e",
   "metadata": {},
   "outputs": [],
   "source": [
    "from sklearn.metrics import classificatio_report\n",
    "print(classification_report(y_test,y_pred))"
   ]
  },
  {
   "cell_type": "markdown",
   "id": "6050ed80-2523-4f30-bdfb-918943b78ef7",
   "metadata": {},
   "source": [
    "In conclusion, our metallurgical exploratory project has demonstrated the efficacy of\r\n",
    "utilizing thermodynamic parameters and machine learning techniques to predict phases\r\n",
    "in high entropy alloys (HEAs). Through the careful analysis of factors such as atomic\r\n",
    "size difference, entropy and enthalpy of mixing free energy change, and atomic radii, we\r\n",
    "have developed a predictive model capable of accurately determining the phases of\r\n",
    "diverse HEA compositions. This approach not only enhances our understanding of\r\n",
    "phase behavior in complex alloy systems but also provides valuable insights for tailored\r\n",
    "alloy design. As we continue to refine and expand upon this methodology, the potential\r\n",
    "for transformative advancements in materials science remains promising.\r",
    "mising.\r"
   ]
  }
 ],
 "metadata": {
  "kernelspec": {
   "display_name": "Python 3 (ipykernel)",
   "language": "python",
   "name": "python3"
  },
  "language_info": {
   "codemirror_mode": {
    "name": "ipython",
    "version": 3
   },
   "file_extension": ".py",
   "mimetype": "text/x-python",
   "name": "python",
   "nbconvert_exporter": "python",
   "pygments_lexer": "ipython3",
   "version": "3.12.1"
  }
 },
 "nbformat": 4,
 "nbformat_minor": 5
}
